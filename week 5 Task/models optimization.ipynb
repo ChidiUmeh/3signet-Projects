{
 "cells": [
  {
   "cell_type": "code",
   "execution_count": null,
   "metadata": {},
   "outputs": [],
   "source": [
    "# Importing necessary libraries\n",
    "import numpy as np\n",
    "import pandas as pd\n",
    "import matplotlib.pyplot as plt\n",
    "import seaborn as sns\n",
    "from sklearn.linear_model import LogisticRegression\n",
    "from sklearn.tree import DecisionTreeClassifier\n",
    "from sklearn.svm import SVC\n",
    "from sklearn.ensemble import RandomForestClassifier\n",
    "from sklearn.ensemble import  GradientBoostingClassifier\n",
    "from sklearn.model_selection import train_test_split, RandomizedSearchCV,GridSearchCV,cross_val_score, learning_curve\n",
    "from sklearn.metrics import accuracy_score, classification_report, confusion_matrix, roc_curve, roc_auc_score\n",
    "import warnings\n",
    "warnings.filterwarnings('ignore')"
   ]
  },
  {
   "cell_type": "code",
   "execution_count": null,
   "metadata": {},
   "outputs": [],
   "source": [
    "school_df = pd.read_csv('updated_data.csv', index_col=0)\n",
    "X = school_df.drop('Target_encoded', axis=1)\n",
    "y = school_df['Target_encoded']"
   ]
  },
  {
   "cell_type": "code",
   "execution_count": null,
   "metadata": {},
   "outputs": [],
   "source": [
    "X_train , X_test, y_train, y_test = train_test_split(X,y, test_size=0.2, stratify=y, random_state=42)"
   ]
  },
  {
   "cell_type": "code",
   "execution_count": null,
   "metadata": {},
   "outputs": [],
   "source": [
    "def gridsearch(model, params,):\n",
    "    gridsearch = GridSearchCV(estimator=model,param_grid=params,cv=10,n_jobs=1)\n",
    "    gridsearch.fit(X_train,y_train)\n",
    "    train_pred = gridsearch.predict(X_train)\n",
    "    test_pred = gridsearch.predict(X_test)\n",
    "    model_pred_proba=gridsearch.predict_proba(X_test)[:,1]\n",
    "    print('training accuracy: ',accuracy_score(train_pred,y_train))\n",
    "    print('testing accuracy: ',accuracy_score(test_pred,y_test))\n",
    "    scores = cross_val_score(gridsearch, X_train, y_train, cv=10)  # 10-fold cross-validation\n",
    "    print(\"Mean cross-validation score:\", np.mean(scores))\n",
    "    print('roc_auc: ', roc_auc_score(y_test,model_pred_proba))\n",
    "    print(\"Confusion matrix:\\n\", confusion_matrix(y_test, test_pred))\n",
    "    print(\"Classification report:\\n\", classification_report(y_test, test_pred))"
   ]
  },
  {
   "cell_type": "code",
   "execution_count": null,
   "metadata": {},
   "outputs": [],
   "source": [
    "def randomizedsearch(model, params,):\n",
    "    randomsearch = RandomizedSearchCV(estimator=model,param_grid=params,cv=10,n_jobs=1)\n",
    "    randomsearch.fit(X_train,y_train)\n",
    "    train_pred = randomsearch.predict(X_train)\n",
    "    test_pred = randomsearch.predict(X_test)\n",
    "    model_pred_proba=randomsearch.predict_proba(X_test)[:,1]\n",
    "    print('training accuracy: ',accuracy_score(train_pred,y_train))\n",
    "    print('testing accuracy: ',accuracy_score(test_pred,y_test))\n",
    "    scores = cross_val_score(randomsearch, X_train, y_train, cv=10)  # 10-fold cross-validation\n",
    "    print(\"Mean cross-validation score:\", np.mean(scores))\n",
    "    print('roc_auc: ', roc_auc_score(y_test,model_pred_proba))\n",
    "    print(\"Confusion matrix:\\n\", confusion_matrix(y_test, test_pred))\n",
    "    print(\"Classification report:\\n\", classification_report(y_test, test_pred))"
   ]
  }
 ],
 "metadata": {
  "kernelspec": {
   "display_name": "base",
   "language": "python",
   "name": "python3"
  },
  "language_info": {
   "name": "python",
   "version": "3.12.4"
  }
 },
 "nbformat": 4,
 "nbformat_minor": 2
}
