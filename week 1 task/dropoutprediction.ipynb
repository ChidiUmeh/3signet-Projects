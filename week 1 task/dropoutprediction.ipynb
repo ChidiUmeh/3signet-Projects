{
 "cells": [
  {
   "cell_type": "markdown",
   "id": "bEAbUKMGJYrf",
   "metadata": {
    "id": "bEAbUKMGJYrf"
   },
   "source": [
    "# DATA WRANGLING"
   ]
  },
  {
   "cell_type": "markdown",
   "id": "g0o0YNf8Jnpi",
   "metadata": {
    "id": "g0o0YNf8Jnpi"
   },
   "source": [
    "## Step 1"
   ]
  },
  {
   "cell_type": "code",
   "execution_count": null,
   "id": "c40777ab-d463-44b5-a8ef-ce0412956273",
   "metadata": {
    "executionInfo": {
     "elapsed": 1872,
     "status": "ok",
     "timestamp": 1726435338195,
     "user": {
      "displayName": "Chidiebere Agate",
      "userId": "09150463183037036353"
     },
     "user_tz": -60
    },
    "id": "c40777ab-d463-44b5-a8ef-ce0412956273"
   },
   "outputs": [],
   "source": [
    "# Importing necessary libraries\n",
    "import numpy as np\n",
    "import pandas as pd\n",
    "import matplotlib.pyplot as plt\n",
    "import seaborn as sns\n",
    "from sklearn.preprocessing import OneHotEncoder, LabelEncoder, StandardScaler\n",
    "label = LabelEncoder()\n",
    "onehot=OneHotEncoder(sparse_output=False, handle_unknown='ignore').set_output(transform='pandas')\n",
    "scaler = StandardScaler()"
   ]
  },
  {
   "cell_type": "markdown",
   "id": "kh3sfQSCJ1Mf",
   "metadata": {
    "id": "kh3sfQSCJ1Mf"
   },
   "source": [
    "## Step 2"
   ]
  },
  {
   "cell_type": "code",
   "execution_count": null,
   "id": "67a1e52c-aec8-4a50-9bf4-8810ed05b7d2",
   "metadata": {
    "colab": {
     "base_uri": "https://localhost:8080/",
     "height": 308
    },
    "executionInfo": {
     "elapsed": 24,
     "status": "ok",
     "timestamp": 1726435341266,
     "user": {
      "displayName": "Chidiebere Agate",
      "userId": "09150463183037036353"
     },
     "user_tz": -60
    },
    "id": "67a1e52c-aec8-4a50-9bf4-8810ed05b7d2",
    "outputId": "8939f84d-6654-4a79-ec60-55fac6786559"
   },
   "outputs": [],
   "source": [
    "# Loading the Dataset and rounding numbers to 2 decimal places\n",
    "dropouts = pd.read_csv('data.csv', delimiter=';')\n",
    "school_rd = dropouts.drop('Target',axis=1).round(2)\n",
    "dropouts_concat = pd.concat([school_rd,dropouts['Target']],axis=1)\n",
    "school = dropouts_concat.copy()\n",
    "school.head()\n"
   ]
  },
  {
   "cell_type": "code",
   "execution_count": null,
   "id": "f1e8eec5-561e-4dc8-979d-5e38a145e0b3",
   "metadata": {},
   "outputs": [],
   "source": [
    "school.info()"
   ]
  },
  {
   "cell_type": "code",
   "execution_count": null,
   "id": "126846a4-9a1d-40ce-9c5f-2da62f8da245",
   "metadata": {},
   "outputs": [],
   "source": [
    "school.rename(columns={'Nacionality' :'Nationality', 'Daytime/evening attendance\\t':'Daytime/evening attendance'},inplace=True)"
   ]
  },
  {
   "cell_type": "code",
   "execution_count": null,
   "id": "14ac12f3-e137-421f-8a09-b514a7b2ab8b",
   "metadata": {
    "colab": {
     "base_uri": "https://localhost:8080/"
    },
    "executionInfo": {
     "elapsed": 22,
     "status": "ok",
     "timestamp": 1726435341266,
     "user": {
      "displayName": "Chidiebere Agate",
      "userId": "09150463183037036353"
     },
     "user_tz": -60
    },
    "id": "14ac12f3-e137-421f-8a09-b514a7b2ab8b",
    "outputId": "73ac3aaf-72d5-45b4-9ac7-15a5a51b286e"
   },
   "outputs": [],
   "source": [
    "# Checking the number of rows and columns\n",
    "school.shape"
   ]
  },
  {
   "cell_type": "code",
   "execution_count": null,
   "id": "f201ea68-05b9-431d-a568-e98fdeca36ca",
   "metadata": {
    "colab": {
     "base_uri": "https://localhost:8080/"
    },
    "executionInfo": {
     "elapsed": 19,
     "status": "ok",
     "timestamp": 1726435341266,
     "user": {
      "displayName": "Chidiebere Agate",
      "userId": "09150463183037036353"
     },
     "user_tz": -60
    },
    "id": "f201ea68-05b9-431d-a568-e98fdeca36ca",
    "outputId": "74a9c502-8fa3-45d0-952d-0fd30a617128"
   },
   "outputs": [],
   "source": [
    "# Checking the datatypes\n",
    "print(school.info())"
   ]
  },
  {
   "cell_type": "code",
   "execution_count": null,
   "id": "b18df1f2-db33-42b6-b5c7-6bb013391820",
   "metadata": {
    "colab": {
     "base_uri": "https://localhost:8080/",
     "height": 355
    },
    "executionInfo": {
     "elapsed": 15,
     "status": "ok",
     "timestamp": 1726435341266,
     "user": {
      "displayName": "Chidiebere Agate",
      "userId": "09150463183037036353"
     },
     "user_tz": -60
    },
    "id": "b18df1f2-db33-42b6-b5c7-6bb013391820",
    "outputId": "c6db3ad3-9f0d-407b-d535-9c5b07066013"
   },
   "outputs": [],
   "source": [
    "school.iloc[:,:18].describe().round(2)"
   ]
  },
  {
   "cell_type": "code",
   "execution_count": null,
   "id": "c67589e3-febd-4791-974d-767893f5a2cb",
   "metadata": {},
   "outputs": [],
   "source": [
    "school['Curricular units 1st sem (without evaluations)'].sort_values().unique()"
   ]
  },
  {
   "cell_type": "code",
   "execution_count": null,
   "id": "4925acdd-1cc7-409c-88dc-8ab17cba3b30",
   "metadata": {},
   "outputs": [],
   "source": [
    "school['Curricular units 2nd sem (without evaluations)'].sort_values().unique()"
   ]
  },
  {
   "cell_type": "code",
   "execution_count": null,
   "id": "79a1b645-5f54-4c44-a019-aa5ad19b7efb",
   "metadata": {},
   "outputs": [],
   "source": [
    "school['Gender'].sort_values().unique()"
   ]
  },
  {
   "cell_type": "code",
   "execution_count": null,
   "id": "34ac7d1d-4b67-48d9-903a-d915b0333be6",
   "metadata": {},
   "outputs": [],
   "source": [
    "sns.boxplot(school['Curricular units 2nd sem (evaluations)'])\n",
    "plt.show()"
   ]
  },
  {
   "cell_type": "code",
   "execution_count": null,
   "id": "d07829c0-87cc-44cf-ac32-b5bfdba12170",
   "metadata": {},
   "outputs": [],
   "source": [
    "school.loc[school['Application order']==9,'Application order' ]=7\n",
    "school['Application order'].unique()"
   ]
  },
  {
   "cell_type": "code",
   "execution_count": null,
   "id": "f40387ee-9ae4-4912-b79b-e02d4806bb4a",
   "metadata": {
    "colab": {
     "base_uri": "https://localhost:8080/",
     "height": 372
    },
    "executionInfo": {
     "elapsed": 572,
     "status": "ok",
     "timestamp": 1726435341824,
     "user": {
      "displayName": "Chidiebere Agate",
      "userId": "09150463183037036353"
     },
     "user_tz": -60
    },
    "id": "f40387ee-9ae4-4912-b79b-e02d4806bb4a",
    "outputId": "7ed8a5b5-05a5-4193-84f0-bd329af4eb37"
   },
   "outputs": [],
   "source": [
    "school.iloc[:,18:].describe().round(2)"
   ]
  },
  {
   "cell_type": "code",
   "execution_count": null,
   "id": "2d8c505f-482e-428a-8288-1ab7b91d23eb",
   "metadata": {},
   "outputs": [],
   "source": []
  },
  {
   "cell_type": "code",
   "execution_count": null,
   "id": "7a9d1616-df32-48fa-bb86-73416028f179",
   "metadata": {
    "colab": {
     "base_uri": "https://localhost:8080/"
    },
    "executionInfo": {
     "elapsed": 30,
     "status": "ok",
     "timestamp": 1726435341824,
     "user": {
      "displayName": "Chidiebere Agate",
      "userId": "09150463183037036353"
     },
     "user_tz": -60
    },
    "id": "7a9d1616-df32-48fa-bb86-73416028f179",
    "outputId": "f90b43e3-6a14-49a0-9e84-6ee113bf68a2"
   },
   "outputs": [],
   "source": [
    "# Checking for missing values\n",
    "print(school.isna().sum())"
   ]
  },
  {
   "cell_type": "code",
   "execution_count": null,
   "id": "3a8e3156-5f23-4392-a668-49418d13be90",
   "metadata": {
    "colab": {
     "base_uri": "https://localhost:8080/"
    },
    "executionInfo": {
     "elapsed": 26,
     "status": "ok",
     "timestamp": 1726435341825,
     "user": {
      "displayName": "Chidiebere Agate",
      "userId": "09150463183037036353"
     },
     "user_tz": -60
    },
    "id": "3a8e3156-5f23-4392-a668-49418d13be90",
    "outputId": "a3f9a389-4afe-4131-ce55-2db00256025a"
   },
   "outputs": [],
   "source": [
    "# Checking for duplicted rows\n",
    "school.duplicated().sum()"
   ]
  },
  {
   "cell_type": "code",
   "execution_count": null,
   "id": "e39d4702-877a-4133-b877-f3339d6488af",
   "metadata": {
    "colab": {
     "base_uri": "https://localhost:8080/"
    },
    "executionInfo": {
     "elapsed": 22,
     "status": "ok",
     "timestamp": 1726435341826,
     "user": {
      "displayName": "Chidiebere Agate",
      "userId": "09150463183037036353"
     },
     "user_tz": -60
    },
    "id": "e39d4702-877a-4133-b877-f3339d6488af",
    "outputId": "9547815c-ab36-42e9-d694-c2610bffac6f"
   },
   "outputs": [],
   "source": [
    "school['Marital status'].sort_values().unique()"
   ]
  },
  {
   "cell_type": "code",
   "execution_count": null,
   "id": "VYHVGE8yjpzg",
   "metadata": {
    "colab": {
     "base_uri": "https://localhost:8080/"
    },
    "executionInfo": {
     "elapsed": 20,
     "status": "ok",
     "timestamp": 1726435341826,
     "user": {
      "displayName": "Chidiebere Agate",
      "userId": "09150463183037036353"
     },
     "user_tz": -60
    },
    "id": "VYHVGE8yjpzg",
    "outputId": "4c90a12f-cccd-4535-acf5-a8c119561a86"
   },
   "outputs": [],
   "source": [
    "school['Application mode'].sort_values().unique()"
   ]
  },
  {
   "cell_type": "code",
   "execution_count": null,
   "id": "863134e5-fc65-4fd7-b760-b9da6197541b",
   "metadata": {
    "colab": {
     "base_uri": "https://localhost:8080/"
    },
    "executionInfo": {
     "elapsed": 20,
     "status": "ok",
     "timestamp": 1726435341827,
     "user": {
      "displayName": "Chidiebere Agate",
      "userId": "09150463183037036353"
     },
     "user_tz": -60
    },
    "id": "863134e5-fc65-4fd7-b760-b9da6197541b",
    "outputId": "8bce8b9e-3620-48f6-b55b-43d7534b0a47"
   },
   "outputs": [],
   "source": [
    "school[\"Previous qualification\"].unique()"
   ]
  },
  {
   "cell_type": "code",
   "execution_count": null,
   "id": "d61ea6f9-ea40-496a-9165-1c008215ee31",
   "metadata": {
    "colab": {
     "base_uri": "https://localhost:8080/"
    },
    "executionInfo": {
     "elapsed": 18,
     "status": "ok",
     "timestamp": 1726435341827,
     "user": {
      "displayName": "Chidiebere Agate",
      "userId": "09150463183037036353"
     },
     "user_tz": -60
    },
    "id": "d61ea6f9-ea40-496a-9165-1c008215ee31",
    "outputId": "27af23ca-d418-4a2f-b342-32d6f45d486f"
   },
   "outputs": [],
   "source": [
    "school['Tuition fees up to date'].unique()"
   ]
  },
  {
   "cell_type": "markdown",
   "id": "pUAsQ2U3J9Pw",
   "metadata": {
    "id": "pUAsQ2U3J9Pw"
   },
   "source": [
    "## Step 3"
   ]
  },
  {
   "cell_type": "code",
   "execution_count": null,
   "id": "020c404c-a392-4b13-a2a1-adfa4cdaa265",
   "metadata": {
    "executionInfo": {
     "elapsed": 570,
     "status": "ok",
     "timestamp": 1726435342381,
     "user": {
      "displayName": "Chidiebere Agate",
      "userId": "09150463183037036353"
     },
     "user_tz": -60
    },
    "id": "020c404c-a392-4b13-a2a1-adfa4cdaa265"
   },
   "outputs": [],
   "source": [
    "# Encoding the Categorical variables and the imbalanced ones\n",
    "encode_variables = ['Marital status','Application mode','Target','Application order','Previous qualification','Nationality',\"Mother's qualification\",\"Father's qualification\",\"Mother's occupation\",\"Father's occupation\",'Course','Curricular units 1st sem (credited)','Curricular units 1st sem (enrolled)','Curricular units 1st sem (evaluations)','Curricular units 1st sem (approved)','Curricular units 1st sem (without evaluations)','Curricular units 2nd sem (credited)','Curricular units 2nd sem (enrolled)','Curricular units 2nd sem (evaluations)','Curricular units 2nd sem (approved)','Curricular units 2nd sem (without evaluations)']\n",
    "\n",
    "for variable in encode_variables:\n",
    "    school[f'{variable}_encoded']=label.fit_transform(school[f'{variable}'])\n",
    "\n",
    "\n",
    "school.describe()"
   ]
  },
  {
   "cell_type": "code",
   "execution_count": null,
   "id": "07b42d17-250b-48a2-900b-8a0e3e9d8445",
   "metadata": {
    "colab": {
     "base_uri": "https://localhost:8080/"
    },
    "executionInfo": {
     "elapsed": 23,
     "status": "ok",
     "timestamp": 1726435342382,
     "user": {
      "displayName": "Chidiebere Agate",
      "userId": "09150463183037036353"
     },
     "user_tz": -60
    },
    "id": "07b42d17-250b-48a2-900b-8a0e3e9d8445",
    "outputId": "a2b59627-9a44-47e2-bdb1-77605f170334"
   },
   "outputs": [],
   "source": [
    "school.describe()"
   ]
  },
  {
   "cell_type": "code",
   "execution_count": null,
   "id": "283ca55b-5ba3-4e38-8db6-2b17dd48760c",
   "metadata": {},
   "outputs": [],
   "source": [
    "category =  ['Daytime/evening attendance','Displaced','Educational special needs','Debtor','Tuition fees up to date','Gender','Scholarship holder','International','Marital status','Application mode','Target','Application order','Previous qualification','Nationality',\"Mother's qualification\",\"Father's qualification\",\"Mother's occupation\",\"Father's occupation\",'Course','Curricular units 1st sem (credited)','Curricular units 1st sem (enrolled)','Curricular units 1st sem (evaluations)','Curricular units 1st sem (approved)','Curricular units 1st sem (without evaluations)','Curricular units 2nd sem (credited)','Curricular units 2nd sem (enrolled)','Curricular units 2nd sem (evaluations)','Curricular units 2nd sem (approved)','Curricular units 2nd sem (without evaluations)']\n",
    "for cat in category:\n",
    "    school[f'{cat}'] = school[f'{cat}'].astype(str)\n",
    "    school.info()"
   ]
  },
  {
   "cell_type": "markdown",
   "id": "cKKAp9H0KDbZ",
   "metadata": {
    "id": "cKKAp9H0KDbZ"
   },
   "source": [
    "## Step 4"
   ]
  },
  {
   "cell_type": "markdown",
   "id": "8949de10-13d6-4d14-88a5-4ab0d9d1d9f7",
   "metadata": {
    "id": "8949de10-13d6-4d14-88a5-4ab0d9d1d9f7"
   },
   "source": [
    "# Numerical Column Nomalizing"
   ]
  },
  {
   "cell_type": "code",
   "execution_count": null,
   "id": "3e75889c-69cc-4be1-a042-65905fc7816a",
   "metadata": {
    "colab": {
     "base_uri": "https://localhost:8080/",
     "height": 429
    },
    "executionInfo": {
     "elapsed": 16,
     "status": "ok",
     "timestamp": 1726435342382,
     "user": {
      "displayName": "Chidiebere Agate",
      "userId": "09150463183037036353"
     },
     "user_tz": -60
    },
    "id": "3e75889c-69cc-4be1-a042-65905fc7816a",
    "outputId": "e9c36d2c-c9fd-46d0-82f9-541819ca598e"
   },
   "outputs": [],
   "source": [
    "#Checking the variance of the numeric variables\n",
    "num = ['Age at enrollment','Previous qualification (grade)','Admission grade', 'Unemployment rate','Inflation rate','GDP','Curricular units 1st sem (grade)','Curricular units 2nd sem (grade)']\n",
    "numeric_values = school[num]\n",
    "numeric_values.var()"
   ]
  },
  {
   "cell_type": "code",
   "execution_count": null,
   "id": "aaf659db-fbe6-4016-89bd-8a0b74a2dad0",
   "metadata": {
    "colab": {
     "base_uri": "https://localhost:8080/",
     "height": 429
    },
    "executionInfo": {
     "elapsed": 15,
     "status": "ok",
     "timestamp": 1726435342382,
     "user": {
      "displayName": "Chidiebere Agate",
      "userId": "09150463183037036353"
     },
     "user_tz": -60
    },
    "id": "aaf659db-fbe6-4016-89bd-8a0b74a2dad0",
    "outputId": "5cb2161c-6c14-4337-b348-49c19d2c8c31"
   },
   "outputs": [],
   "source": [
    "numeric_values.var()"
   ]
  },
  {
   "cell_type": "code",
   "execution_count": null,
   "id": "4bc15ad1-d78b-4f63-b8b6-83792ddd4f5b",
   "metadata": {},
   "outputs": [],
   "source": []
  },
  {
   "cell_type": "code",
   "execution_count": null,
   "id": "477fc193-3fda-48dd-97a1-7e7360dbdaca",
   "metadata": {
    "colab": {
     "base_uri": "https://localhost:8080/",
     "height": 1000
    },
    "executionInfo": {
     "elapsed": 4680,
     "status": "ok",
     "timestamp": 1726435347048,
     "user": {
      "displayName": "Chidiebere Agate",
      "userId": "09150463183037036353"
     },
     "user_tz": -60
    },
    "id": "477fc193-3fda-48dd-97a1-7e7360dbdaca",
    "outputId": "827e33a6-546d-4803-dfbd-b1b1b30cc70d"
   },
   "outputs": [],
   "source": [
    "# Checking the distribution of the numeric variables\n",
    "for numeric in num:\n",
    "    plt.boxplot(school[f'{numeric}'])\n",
    "    plt.title(f'{numeric} Distribution')\n",
    "    plt.show()"
   ]
  },
  {
   "cell_type": "code",
   "execution_count": null,
   "id": "aa287d99-2c04-4dfd-bb9c-4e0c8e96e47f",
   "metadata": {
    "colab": {
     "base_uri": "https://localhost:8080/",
     "height": 1000
    },
    "executionInfo": {
     "elapsed": 8578,
     "status": "ok",
     "timestamp": 1726435355616,
     "user": {
      "displayName": "Chidiebere Agate",
      "userId": "09150463183037036353"
     },
     "user_tz": -60
    },
    "id": "aa287d99-2c04-4dfd-bb9c-4e0c8e96e47f",
    "outputId": "a766fe36-0a43-4228-c886-2e647e4f3dad"
   },
   "outputs": [],
   "source": [
    "# Checking the distribution of the numeric variables\n",
    "for numeric in numeric_values:\n",
    "    school[f'{numeric}'].hist()\n",
    "    plt.title(f'{numeric} Distribution')\n",
    "    plt.show()"
   ]
  },
  {
   "cell_type": "code",
   "execution_count": null,
   "id": "a180c516-8de1-4360-aa12-14d819f40371",
   "metadata": {
    "colab": {
     "base_uri": "https://localhost:8080/",
     "height": 476
    },
    "executionInfo": {
     "elapsed": 14,
     "status": "ok",
     "timestamp": 1726435355617,
     "user": {
      "displayName": "Chidiebere Agate",
      "userId": "09150463183037036353"
     },
     "user_tz": -60
    },
    "id": "a180c516-8de1-4360-aa12-14d819f40371",
    "outputId": "065f42ec-cac1-4027-c298-1b0f6febe4fe"
   },
   "outputs": [],
   "source": [
    "# Scaling the numeric variables\n",
    "normalized_values = scaler.fit_transform(numeric_values)\n",
    "df = pd.DataFrame(normalized_values)\n",
    "df.columns = numeric_values.columns\n",
    "for column in df.columns:\n",
    "    df[f'{column}_encoded'] = df[f'{column}']\n",
    "df\n",
    "# df[f'{numeric}_encoded']"
   ]
  },
  {
   "cell_type": "code",
   "execution_count": null,
   "id": "53a9ff7f-6fb2-44fc-86f7-d5e639008046",
   "metadata": {},
   "outputs": [],
   "source": [
    "# Dropping the unscaled variables\n",
    "for unit in num:\n",
    "    df.drop(f'{unit}', axis=1, inplace=True)\n",
    "df.info()"
   ]
  },
  {
   "cell_type": "code",
   "execution_count": null,
   "id": "2bc4671f-6852-406b-b33a-5510dc651700",
   "metadata": {
    "colab": {
     "base_uri": "https://localhost:8080/",
     "height": 1000
    },
    "executionInfo": {
     "elapsed": 5147,
     "status": "ok",
     "timestamp": 1726435360753,
     "user": {
      "displayName": "Chidiebere Agate",
      "userId": "09150463183037036353"
     },
     "user_tz": -60
    },
    "id": "2bc4671f-6852-406b-b33a-5510dc651700",
    "outputId": "22de1dc8-14a4-44c0-8e46-fbda84192f8a"
   },
   "outputs": [],
   "source": [
    "#Checking the scaled distribution\n",
    "for numeric in df:\n",
    "    df[f'{numeric}'].hist()\n",
    "    plt.title(f'{numeric} Distribution')\n",
    "    plt.show()"
   ]
  },
  {
   "cell_type": "code",
   "execution_count": null,
   "id": "2274445f-50c4-4a36-a060-e5c1fd57eaf0",
   "metadata": {
    "colab": {
     "base_uri": "https://localhost:8080/",
     "height": 429
    },
    "executionInfo": {
     "elapsed": 588,
     "status": "ok",
     "timestamp": 1726435361331,
     "user": {
      "displayName": "Chidiebere Agate",
      "userId": "09150463183037036353"
     },
     "user_tz": -60
    },
    "id": "2274445f-50c4-4a36-a060-e5c1fd57eaf0",
    "outputId": "8df1f498-3eab-4386-ccae-5ffeec998766"
   },
   "outputs": [],
   "source": [
    "df.var()"
   ]
  },
  {
   "cell_type": "code",
   "execution_count": null,
   "id": "f1ba0790-cd44-45c4-bfb0-46d5c34ac8af",
   "metadata": {
    "colab": {
     "base_uri": "https://localhost:8080/"
    },
    "executionInfo": {
     "elapsed": 11,
     "status": "ok",
     "timestamp": 1726435361332,
     "user": {
      "displayName": "Chidiebere Agate",
      "userId": "09150463183037036353"
     },
     "user_tz": -60
    },
    "id": "f1ba0790-cd44-45c4-bfb0-46d5c34ac8af",
    "outputId": "04e90fea-8132-4fff-dd4c-b2f35a6fbcc3"
   },
   "outputs": [],
   "source": [
    "# Adding the scaled features\n",
    "dropout = pd.concat([school,df],axis=1)\n",
    "dropout.iloc[:,37:].describe()"
   ]
  },
  {
   "cell_type": "markdown",
   "id": "RxudOo2DKLnh",
   "metadata": {
    "id": "RxudOo2DKLnh"
   },
   "source": [
    "## Step 5"
   ]
  },
  {
   "cell_type": "code",
   "execution_count": null,
   "id": "a7f4ddd1-98d4-4dc2-b0f7-fcd1f764f276",
   "metadata": {
    "executionInfo": {
     "elapsed": 9,
     "status": "ok",
     "timestamp": 1726435361332,
     "user": {
      "displayName": "Chidiebere Agate",
      "userId": "09150463183037036353"
     },
     "user_tz": -60
    },
    "id": "a7f4ddd1-98d4-4dc2-b0f7-fcd1f764f276"
   },
   "outputs": [],
   "source": [
    "# Converting the cleaned data to csv format\n",
    "dropout.to_csv('cleaned_data.csv',index=False)"
   ]
  }
 ],
 "metadata": {
  "colab": {
   "provenance": []
  },
  "kernelspec": {
   "display_name": "Python 3 (ipykernel)",
   "language": "python",
   "name": "python3"
  },
  "language_info": {
   "codemirror_mode": {
    "name": "ipython",
    "version": 3
   },
   "file_extension": ".py",
   "mimetype": "text/x-python",
   "name": "python",
   "nbconvert_exporter": "python",
   "pygments_lexer": "ipython3",
   "version": "3.12.4"
  }
 },
 "nbformat": 4,
 "nbformat_minor": 5
}
