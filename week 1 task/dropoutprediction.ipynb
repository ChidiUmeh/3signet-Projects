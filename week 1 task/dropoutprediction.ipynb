{
 "cells": [
  {
   "cell_type": "markdown",
   "id": "bEAbUKMGJYrf",
   "metadata": {
    "id": "bEAbUKMGJYrf"
   },
   "source": [
    "# DATA WRANGLING"
   ]
  },
  {
   "cell_type": "markdown",
   "id": "g0o0YNf8Jnpi",
   "metadata": {
    "id": "g0o0YNf8Jnpi"
   },
   "source": [
    "## Step 1"
   ]
  },
  {
   "cell_type": "code",
   "execution_count": 3,
   "id": "c40777ab-d463-44b5-a8ef-ce0412956273",
   "metadata": {
    "executionInfo": {
     "elapsed": 1872,
     "status": "ok",
     "timestamp": 1726435338195,
     "user": {
      "displayName": "Chidiebere Agate",
      "userId": "09150463183037036353"
     },
     "user_tz": -60
    },
    "id": "c40777ab-d463-44b5-a8ef-ce0412956273"
   },
   "outputs": [],
   "source": [
    "# Importing necessary libraries\n",
    "import numpy as np\n",
    "import pandas as pd\n",
    "import matplotlib.pyplot as plt\n",
    "import seaborn as sns\n",
    "from sklearn.preprocessing import LabelEncoder, StandardScaler\n",
    "encoder = LabelEncoder()\n",
    "scaler = StandardScaler()"
   ]
  },
  {
   "cell_type": "markdown",
   "id": "kh3sfQSCJ1Mf",
   "metadata": {
    "id": "kh3sfQSCJ1Mf"
   },
   "source": [
    "## Step 2"
   ]
  },
  {
   "cell_type": "code",
   "execution_count": 5,
   "id": "67a1e52c-aec8-4a50-9bf4-8810ed05b7d2",
   "metadata": {
    "colab": {
     "base_uri": "https://localhost:8080/",
     "height": 308
    },
    "executionInfo": {
     "elapsed": 24,
     "status": "ok",
     "timestamp": 1726435341266,
     "user": {
      "displayName": "Chidiebere Agate",
      "userId": "09150463183037036353"
     },
     "user_tz": -60
    },
    "id": "67a1e52c-aec8-4a50-9bf4-8810ed05b7d2",
    "outputId": "8939f84d-6654-4a79-ec60-55fac6786559"
   },
   "outputs": [
    {
     "data": {
      "text/html": [
       "<div>\n",
       "<style scoped>\n",
       "    .dataframe tbody tr th:only-of-type {\n",
       "        vertical-align: middle;\n",
       "    }\n",
       "\n",
       "    .dataframe tbody tr th {\n",
       "        vertical-align: top;\n",
       "    }\n",
       "\n",
       "    .dataframe thead th {\n",
       "        text-align: right;\n",
       "    }\n",
       "</style>\n",
       "<table border=\"1\" class=\"dataframe\">\n",
       "  <thead>\n",
       "    <tr style=\"text-align: right;\">\n",
       "      <th></th>\n",
       "      <th>Marital status</th>\n",
       "      <th>Application mode</th>\n",
       "      <th>Application order</th>\n",
       "      <th>Course</th>\n",
       "      <th>Daytime/evening attendance\\t</th>\n",
       "      <th>Previous qualification</th>\n",
       "      <th>Previous qualification (grade)</th>\n",
       "      <th>Nacionality</th>\n",
       "      <th>Mother's qualification</th>\n",
       "      <th>Father's qualification</th>\n",
       "      <th>...</th>\n",
       "      <th>Curricular units 2nd sem (credited)</th>\n",
       "      <th>Curricular units 2nd sem (enrolled)</th>\n",
       "      <th>Curricular units 2nd sem (evaluations)</th>\n",
       "      <th>Curricular units 2nd sem (approved)</th>\n",
       "      <th>Curricular units 2nd sem (grade)</th>\n",
       "      <th>Curricular units 2nd sem (without evaluations)</th>\n",
       "      <th>Unemployment rate</th>\n",
       "      <th>Inflation rate</th>\n",
       "      <th>GDP</th>\n",
       "      <th>Target</th>\n",
       "    </tr>\n",
       "  </thead>\n",
       "  <tbody>\n",
       "    <tr>\n",
       "      <th>0</th>\n",
       "      <td>1</td>\n",
       "      <td>17</td>\n",
       "      <td>5</td>\n",
       "      <td>171</td>\n",
       "      <td>1</td>\n",
       "      <td>1</td>\n",
       "      <td>122.0</td>\n",
       "      <td>1</td>\n",
       "      <td>19</td>\n",
       "      <td>12</td>\n",
       "      <td>...</td>\n",
       "      <td>0</td>\n",
       "      <td>0</td>\n",
       "      <td>0</td>\n",
       "      <td>0</td>\n",
       "      <td>0.00</td>\n",
       "      <td>0</td>\n",
       "      <td>10.8</td>\n",
       "      <td>1.4</td>\n",
       "      <td>1.74</td>\n",
       "      <td>Dropout</td>\n",
       "    </tr>\n",
       "    <tr>\n",
       "      <th>1</th>\n",
       "      <td>1</td>\n",
       "      <td>15</td>\n",
       "      <td>1</td>\n",
       "      <td>9254</td>\n",
       "      <td>1</td>\n",
       "      <td>1</td>\n",
       "      <td>160.0</td>\n",
       "      <td>1</td>\n",
       "      <td>1</td>\n",
       "      <td>3</td>\n",
       "      <td>...</td>\n",
       "      <td>0</td>\n",
       "      <td>6</td>\n",
       "      <td>6</td>\n",
       "      <td>6</td>\n",
       "      <td>13.67</td>\n",
       "      <td>0</td>\n",
       "      <td>13.9</td>\n",
       "      <td>-0.3</td>\n",
       "      <td>0.79</td>\n",
       "      <td>Graduate</td>\n",
       "    </tr>\n",
       "    <tr>\n",
       "      <th>2</th>\n",
       "      <td>1</td>\n",
       "      <td>1</td>\n",
       "      <td>5</td>\n",
       "      <td>9070</td>\n",
       "      <td>1</td>\n",
       "      <td>1</td>\n",
       "      <td>122.0</td>\n",
       "      <td>1</td>\n",
       "      <td>37</td>\n",
       "      <td>37</td>\n",
       "      <td>...</td>\n",
       "      <td>0</td>\n",
       "      <td>6</td>\n",
       "      <td>0</td>\n",
       "      <td>0</td>\n",
       "      <td>0.00</td>\n",
       "      <td>0</td>\n",
       "      <td>10.8</td>\n",
       "      <td>1.4</td>\n",
       "      <td>1.74</td>\n",
       "      <td>Dropout</td>\n",
       "    </tr>\n",
       "    <tr>\n",
       "      <th>3</th>\n",
       "      <td>1</td>\n",
       "      <td>17</td>\n",
       "      <td>2</td>\n",
       "      <td>9773</td>\n",
       "      <td>1</td>\n",
       "      <td>1</td>\n",
       "      <td>122.0</td>\n",
       "      <td>1</td>\n",
       "      <td>38</td>\n",
       "      <td>37</td>\n",
       "      <td>...</td>\n",
       "      <td>0</td>\n",
       "      <td>6</td>\n",
       "      <td>10</td>\n",
       "      <td>5</td>\n",
       "      <td>12.40</td>\n",
       "      <td>0</td>\n",
       "      <td>9.4</td>\n",
       "      <td>-0.8</td>\n",
       "      <td>-3.12</td>\n",
       "      <td>Graduate</td>\n",
       "    </tr>\n",
       "    <tr>\n",
       "      <th>4</th>\n",
       "      <td>2</td>\n",
       "      <td>39</td>\n",
       "      <td>1</td>\n",
       "      <td>8014</td>\n",
       "      <td>0</td>\n",
       "      <td>1</td>\n",
       "      <td>100.0</td>\n",
       "      <td>1</td>\n",
       "      <td>37</td>\n",
       "      <td>38</td>\n",
       "      <td>...</td>\n",
       "      <td>0</td>\n",
       "      <td>6</td>\n",
       "      <td>6</td>\n",
       "      <td>6</td>\n",
       "      <td>13.00</td>\n",
       "      <td>0</td>\n",
       "      <td>13.9</td>\n",
       "      <td>-0.3</td>\n",
       "      <td>0.79</td>\n",
       "      <td>Graduate</td>\n",
       "    </tr>\n",
       "  </tbody>\n",
       "</table>\n",
       "<p>5 rows × 37 columns</p>\n",
       "</div>"
      ],
      "text/plain": [
       "   Marital status  Application mode  Application order  Course  \\\n",
       "0               1                17                  5     171   \n",
       "1               1                15                  1    9254   \n",
       "2               1                 1                  5    9070   \n",
       "3               1                17                  2    9773   \n",
       "4               2                39                  1    8014   \n",
       "\n",
       "   Daytime/evening attendance\\t  Previous qualification  \\\n",
       "0                             1                       1   \n",
       "1                             1                       1   \n",
       "2                             1                       1   \n",
       "3                             1                       1   \n",
       "4                             0                       1   \n",
       "\n",
       "   Previous qualification (grade)  Nacionality  Mother's qualification  \\\n",
       "0                           122.0            1                      19   \n",
       "1                           160.0            1                       1   \n",
       "2                           122.0            1                      37   \n",
       "3                           122.0            1                      38   \n",
       "4                           100.0            1                      37   \n",
       "\n",
       "   Father's qualification  ...  Curricular units 2nd sem (credited)  \\\n",
       "0                      12  ...                                    0   \n",
       "1                       3  ...                                    0   \n",
       "2                      37  ...                                    0   \n",
       "3                      37  ...                                    0   \n",
       "4                      38  ...                                    0   \n",
       "\n",
       "   Curricular units 2nd sem (enrolled)  \\\n",
       "0                                    0   \n",
       "1                                    6   \n",
       "2                                    6   \n",
       "3                                    6   \n",
       "4                                    6   \n",
       "\n",
       "   Curricular units 2nd sem (evaluations)  \\\n",
       "0                                       0   \n",
       "1                                       6   \n",
       "2                                       0   \n",
       "3                                      10   \n",
       "4                                       6   \n",
       "\n",
       "   Curricular units 2nd sem (approved)  Curricular units 2nd sem (grade)  \\\n",
       "0                                    0                              0.00   \n",
       "1                                    6                             13.67   \n",
       "2                                    0                              0.00   \n",
       "3                                    5                             12.40   \n",
       "4                                    6                             13.00   \n",
       "\n",
       "   Curricular units 2nd sem (without evaluations)  Unemployment rate  \\\n",
       "0                                               0               10.8   \n",
       "1                                               0               13.9   \n",
       "2                                               0               10.8   \n",
       "3                                               0                9.4   \n",
       "4                                               0               13.9   \n",
       "\n",
       "   Inflation rate   GDP    Target  \n",
       "0             1.4  1.74   Dropout  \n",
       "1            -0.3  0.79  Graduate  \n",
       "2             1.4  1.74   Dropout  \n",
       "3            -0.8 -3.12  Graduate  \n",
       "4            -0.3  0.79  Graduate  \n",
       "\n",
       "[5 rows x 37 columns]"
      ]
     },
     "execution_count": 5,
     "metadata": {},
     "output_type": "execute_result"
    }
   ],
   "source": [
    "# Loading the Dataset and rounding numbers to 2 decimal places\n",
    "dropouts = pd.read_csv('data.csv', delimiter=';')\n",
    "school_rd = dropouts.drop('Target',axis=1).round(2)\n",
    "dropouts_concat = pd.concat([school_rd,dropouts['Target']],axis=1)\n",
    "school = dropouts_concat.copy()\n",
    "school.head()\n"
   ]
  },
  {
   "cell_type": "code",
   "execution_count": 6,
   "id": "f1e8eec5-561e-4dc8-979d-5e38a145e0b3",
   "metadata": {},
   "outputs": [
    {
     "name": "stdout",
     "output_type": "stream",
     "text": [
      "<class 'pandas.core.frame.DataFrame'>\n",
      "RangeIndex: 4424 entries, 0 to 4423\n",
      "Data columns (total 37 columns):\n",
      " #   Column                                          Non-Null Count  Dtype  \n",
      "---  ------                                          --------------  -----  \n",
      " 0   Marital status                                  4424 non-null   int64  \n",
      " 1   Application mode                                4424 non-null   int64  \n",
      " 2   Application order                               4424 non-null   int64  \n",
      " 3   Course                                          4424 non-null   int64  \n",
      " 4   Daytime/evening attendance\t                     4424 non-null   int64  \n",
      " 5   Previous qualification                          4424 non-null   int64  \n",
      " 6   Previous qualification (grade)                  4424 non-null   float64\n",
      " 7   Nacionality                                     4424 non-null   int64  \n",
      " 8   Mother's qualification                          4424 non-null   int64  \n",
      " 9   Father's qualification                          4424 non-null   int64  \n",
      " 10  Mother's occupation                             4424 non-null   int64  \n",
      " 11  Father's occupation                             4424 non-null   int64  \n",
      " 12  Admission grade                                 4424 non-null   float64\n",
      " 13  Displaced                                       4424 non-null   int64  \n",
      " 14  Educational special needs                       4424 non-null   int64  \n",
      " 15  Debtor                                          4424 non-null   int64  \n",
      " 16  Tuition fees up to date                         4424 non-null   int64  \n",
      " 17  Gender                                          4424 non-null   int64  \n",
      " 18  Scholarship holder                              4424 non-null   int64  \n",
      " 19  Age at enrollment                               4424 non-null   int64  \n",
      " 20  International                                   4424 non-null   int64  \n",
      " 21  Curricular units 1st sem (credited)             4424 non-null   int64  \n",
      " 22  Curricular units 1st sem (enrolled)             4424 non-null   int64  \n",
      " 23  Curricular units 1st sem (evaluations)          4424 non-null   int64  \n",
      " 24  Curricular units 1st sem (approved)             4424 non-null   int64  \n",
      " 25  Curricular units 1st sem (grade)                4424 non-null   float64\n",
      " 26  Curricular units 1st sem (without evaluations)  4424 non-null   int64  \n",
      " 27  Curricular units 2nd sem (credited)             4424 non-null   int64  \n",
      " 28  Curricular units 2nd sem (enrolled)             4424 non-null   int64  \n",
      " 29  Curricular units 2nd sem (evaluations)          4424 non-null   int64  \n",
      " 30  Curricular units 2nd sem (approved)             4424 non-null   int64  \n",
      " 31  Curricular units 2nd sem (grade)                4424 non-null   float64\n",
      " 32  Curricular units 2nd sem (without evaluations)  4424 non-null   int64  \n",
      " 33  Unemployment rate                               4424 non-null   float64\n",
      " 34  Inflation rate                                  4424 non-null   float64\n",
      " 35  GDP                                             4424 non-null   float64\n",
      " 36  Target                                          4424 non-null   object \n",
      "dtypes: float64(7), int64(29), object(1)\n",
      "memory usage: 1.2+ MB\n"
     ]
    }
   ],
   "source": [
    "school.info()"
   ]
  },
  {
   "cell_type": "code",
   "execution_count": 7,
   "id": "126846a4-9a1d-40ce-9c5f-2da62f8da245",
   "metadata": {},
   "outputs": [],
   "source": [
    "school.rename(columns={'Nacionality' :'Nationality', 'Daytime/evening attendance\\t':'Daytime/evening attendance'},inplace=True)"
   ]
  },
  {
   "cell_type": "code",
   "execution_count": 8,
   "id": "14ac12f3-e137-421f-8a09-b514a7b2ab8b",
   "metadata": {
    "colab": {
     "base_uri": "https://localhost:8080/"
    },
    "executionInfo": {
     "elapsed": 22,
     "status": "ok",
     "timestamp": 1726435341266,
     "user": {
      "displayName": "Chidiebere Agate",
      "userId": "09150463183037036353"
     },
     "user_tz": -60
    },
    "id": "14ac12f3-e137-421f-8a09-b514a7b2ab8b",
    "outputId": "73ac3aaf-72d5-45b4-9ac7-15a5a51b286e"
   },
   "outputs": [
    {
     "data": {
      "text/plain": [
       "(4424, 37)"
      ]
     },
     "execution_count": 8,
     "metadata": {},
     "output_type": "execute_result"
    }
   ],
   "source": [
    "# Checking the number of rows and columns\n",
    "school.shape"
   ]
  },
  {
   "cell_type": "code",
   "execution_count": 9,
   "id": "f201ea68-05b9-431d-a568-e98fdeca36ca",
   "metadata": {
    "colab": {
     "base_uri": "https://localhost:8080/"
    },
    "executionInfo": {
     "elapsed": 19,
     "status": "ok",
     "timestamp": 1726435341266,
     "user": {
      "displayName": "Chidiebere Agate",
      "userId": "09150463183037036353"
     },
     "user_tz": -60
    },
    "id": "f201ea68-05b9-431d-a568-e98fdeca36ca",
    "outputId": "74a9c502-8fa3-45d0-952d-0fd30a617128"
   },
   "outputs": [
    {
     "name": "stdout",
     "output_type": "stream",
     "text": [
      "<class 'pandas.core.frame.DataFrame'>\n",
      "RangeIndex: 4424 entries, 0 to 4423\n",
      "Data columns (total 37 columns):\n",
      " #   Column                                          Non-Null Count  Dtype  \n",
      "---  ------                                          --------------  -----  \n",
      " 0   Marital status                                  4424 non-null   int64  \n",
      " 1   Application mode                                4424 non-null   int64  \n",
      " 2   Application order                               4424 non-null   int64  \n",
      " 3   Course                                          4424 non-null   int64  \n",
      " 4   Daytime/evening attendance                      4424 non-null   int64  \n",
      " 5   Previous qualification                          4424 non-null   int64  \n",
      " 6   Previous qualification (grade)                  4424 non-null   float64\n",
      " 7   Nationality                                     4424 non-null   int64  \n",
      " 8   Mother's qualification                          4424 non-null   int64  \n",
      " 9   Father's qualification                          4424 non-null   int64  \n",
      " 10  Mother's occupation                             4424 non-null   int64  \n",
      " 11  Father's occupation                             4424 non-null   int64  \n",
      " 12  Admission grade                                 4424 non-null   float64\n",
      " 13  Displaced                                       4424 non-null   int64  \n",
      " 14  Educational special needs                       4424 non-null   int64  \n",
      " 15  Debtor                                          4424 non-null   int64  \n",
      " 16  Tuition fees up to date                         4424 non-null   int64  \n",
      " 17  Gender                                          4424 non-null   int64  \n",
      " 18  Scholarship holder                              4424 non-null   int64  \n",
      " 19  Age at enrollment                               4424 non-null   int64  \n",
      " 20  International                                   4424 non-null   int64  \n",
      " 21  Curricular units 1st sem (credited)             4424 non-null   int64  \n",
      " 22  Curricular units 1st sem (enrolled)             4424 non-null   int64  \n",
      " 23  Curricular units 1st sem (evaluations)          4424 non-null   int64  \n",
      " 24  Curricular units 1st sem (approved)             4424 non-null   int64  \n",
      " 25  Curricular units 1st sem (grade)                4424 non-null   float64\n",
      " 26  Curricular units 1st sem (without evaluations)  4424 non-null   int64  \n",
      " 27  Curricular units 2nd sem (credited)             4424 non-null   int64  \n",
      " 28  Curricular units 2nd sem (enrolled)             4424 non-null   int64  \n",
      " 29  Curricular units 2nd sem (evaluations)          4424 non-null   int64  \n",
      " 30  Curricular units 2nd sem (approved)             4424 non-null   int64  \n",
      " 31  Curricular units 2nd sem (grade)                4424 non-null   float64\n",
      " 32  Curricular units 2nd sem (without evaluations)  4424 non-null   int64  \n",
      " 33  Unemployment rate                               4424 non-null   float64\n",
      " 34  Inflation rate                                  4424 non-null   float64\n",
      " 35  GDP                                             4424 non-null   float64\n",
      " 36  Target                                          4424 non-null   object \n",
      "dtypes: float64(7), int64(29), object(1)\n",
      "memory usage: 1.2+ MB\n",
      "None\n"
     ]
    }
   ],
   "source": [
    "# Checking the datatypes\n",
    "print(school.info())"
   ]
  },
  {
   "cell_type": "code",
   "execution_count": 10,
   "id": "b18df1f2-db33-42b6-b5c7-6bb013391820",
   "metadata": {
    "colab": {
     "base_uri": "https://localhost:8080/",
     "height": 355
    },
    "executionInfo": {
     "elapsed": 15,
     "status": "ok",
     "timestamp": 1726435341266,
     "user": {
      "displayName": "Chidiebere Agate",
      "userId": "09150463183037036353"
     },
     "user_tz": -60
    },
    "id": "b18df1f2-db33-42b6-b5c7-6bb013391820",
    "outputId": "c6db3ad3-9f0d-407b-d535-9c5b07066013"
   },
   "outputs": [
    {
     "data": {
      "text/html": [
       "<div>\n",
       "<style scoped>\n",
       "    .dataframe tbody tr th:only-of-type {\n",
       "        vertical-align: middle;\n",
       "    }\n",
       "\n",
       "    .dataframe tbody tr th {\n",
       "        vertical-align: top;\n",
       "    }\n",
       "\n",
       "    .dataframe thead th {\n",
       "        text-align: right;\n",
       "    }\n",
       "</style>\n",
       "<table border=\"1\" class=\"dataframe\">\n",
       "  <thead>\n",
       "    <tr style=\"text-align: right;\">\n",
       "      <th></th>\n",
       "      <th>Marital status</th>\n",
       "      <th>Application mode</th>\n",
       "      <th>Application order</th>\n",
       "      <th>Course</th>\n",
       "      <th>Daytime/evening attendance</th>\n",
       "      <th>Previous qualification</th>\n",
       "      <th>Previous qualification (grade)</th>\n",
       "      <th>Nationality</th>\n",
       "      <th>Mother's qualification</th>\n",
       "      <th>Father's qualification</th>\n",
       "      <th>Mother's occupation</th>\n",
       "      <th>Father's occupation</th>\n",
       "      <th>Admission grade</th>\n",
       "      <th>Displaced</th>\n",
       "      <th>Educational special needs</th>\n",
       "      <th>Debtor</th>\n",
       "      <th>Tuition fees up to date</th>\n",
       "      <th>Gender</th>\n",
       "    </tr>\n",
       "  </thead>\n",
       "  <tbody>\n",
       "    <tr>\n",
       "      <th>count</th>\n",
       "      <td>4424.00</td>\n",
       "      <td>4424.00</td>\n",
       "      <td>4424.00</td>\n",
       "      <td>4424.00</td>\n",
       "      <td>4424.00</td>\n",
       "      <td>4424.00</td>\n",
       "      <td>4424.00</td>\n",
       "      <td>4424.00</td>\n",
       "      <td>4424.00</td>\n",
       "      <td>4424.00</td>\n",
       "      <td>4424.00</td>\n",
       "      <td>4424.00</td>\n",
       "      <td>4424.00</td>\n",
       "      <td>4424.00</td>\n",
       "      <td>4424.00</td>\n",
       "      <td>4424.00</td>\n",
       "      <td>4424.00</td>\n",
       "      <td>4424.00</td>\n",
       "    </tr>\n",
       "    <tr>\n",
       "      <th>mean</th>\n",
       "      <td>1.18</td>\n",
       "      <td>18.67</td>\n",
       "      <td>1.73</td>\n",
       "      <td>8856.64</td>\n",
       "      <td>0.89</td>\n",
       "      <td>4.58</td>\n",
       "      <td>132.61</td>\n",
       "      <td>1.87</td>\n",
       "      <td>19.56</td>\n",
       "      <td>22.28</td>\n",
       "      <td>10.96</td>\n",
       "      <td>11.03</td>\n",
       "      <td>126.98</td>\n",
       "      <td>0.55</td>\n",
       "      <td>0.01</td>\n",
       "      <td>0.11</td>\n",
       "      <td>0.88</td>\n",
       "      <td>0.35</td>\n",
       "    </tr>\n",
       "    <tr>\n",
       "      <th>std</th>\n",
       "      <td>0.61</td>\n",
       "      <td>17.48</td>\n",
       "      <td>1.31</td>\n",
       "      <td>2063.57</td>\n",
       "      <td>0.31</td>\n",
       "      <td>10.22</td>\n",
       "      <td>13.19</td>\n",
       "      <td>6.91</td>\n",
       "      <td>15.60</td>\n",
       "      <td>15.34</td>\n",
       "      <td>26.42</td>\n",
       "      <td>25.26</td>\n",
       "      <td>14.48</td>\n",
       "      <td>0.50</td>\n",
       "      <td>0.11</td>\n",
       "      <td>0.32</td>\n",
       "      <td>0.32</td>\n",
       "      <td>0.48</td>\n",
       "    </tr>\n",
       "    <tr>\n",
       "      <th>min</th>\n",
       "      <td>1.00</td>\n",
       "      <td>1.00</td>\n",
       "      <td>0.00</td>\n",
       "      <td>33.00</td>\n",
       "      <td>0.00</td>\n",
       "      <td>1.00</td>\n",
       "      <td>95.00</td>\n",
       "      <td>1.00</td>\n",
       "      <td>1.00</td>\n",
       "      <td>1.00</td>\n",
       "      <td>0.00</td>\n",
       "      <td>0.00</td>\n",
       "      <td>95.00</td>\n",
       "      <td>0.00</td>\n",
       "      <td>0.00</td>\n",
       "      <td>0.00</td>\n",
       "      <td>0.00</td>\n",
       "      <td>0.00</td>\n",
       "    </tr>\n",
       "    <tr>\n",
       "      <th>25%</th>\n",
       "      <td>1.00</td>\n",
       "      <td>1.00</td>\n",
       "      <td>1.00</td>\n",
       "      <td>9085.00</td>\n",
       "      <td>1.00</td>\n",
       "      <td>1.00</td>\n",
       "      <td>125.00</td>\n",
       "      <td>1.00</td>\n",
       "      <td>2.00</td>\n",
       "      <td>3.00</td>\n",
       "      <td>4.00</td>\n",
       "      <td>4.00</td>\n",
       "      <td>117.90</td>\n",
       "      <td>0.00</td>\n",
       "      <td>0.00</td>\n",
       "      <td>0.00</td>\n",
       "      <td>1.00</td>\n",
       "      <td>0.00</td>\n",
       "    </tr>\n",
       "    <tr>\n",
       "      <th>50%</th>\n",
       "      <td>1.00</td>\n",
       "      <td>17.00</td>\n",
       "      <td>1.00</td>\n",
       "      <td>9238.00</td>\n",
       "      <td>1.00</td>\n",
       "      <td>1.00</td>\n",
       "      <td>133.10</td>\n",
       "      <td>1.00</td>\n",
       "      <td>19.00</td>\n",
       "      <td>19.00</td>\n",
       "      <td>5.00</td>\n",
       "      <td>7.00</td>\n",
       "      <td>126.10</td>\n",
       "      <td>1.00</td>\n",
       "      <td>0.00</td>\n",
       "      <td>0.00</td>\n",
       "      <td>1.00</td>\n",
       "      <td>0.00</td>\n",
       "    </tr>\n",
       "    <tr>\n",
       "      <th>75%</th>\n",
       "      <td>1.00</td>\n",
       "      <td>39.00</td>\n",
       "      <td>2.00</td>\n",
       "      <td>9556.00</td>\n",
       "      <td>1.00</td>\n",
       "      <td>1.00</td>\n",
       "      <td>140.00</td>\n",
       "      <td>1.00</td>\n",
       "      <td>37.00</td>\n",
       "      <td>37.00</td>\n",
       "      <td>9.00</td>\n",
       "      <td>9.00</td>\n",
       "      <td>134.80</td>\n",
       "      <td>1.00</td>\n",
       "      <td>0.00</td>\n",
       "      <td>0.00</td>\n",
       "      <td>1.00</td>\n",
       "      <td>1.00</td>\n",
       "    </tr>\n",
       "    <tr>\n",
       "      <th>max</th>\n",
       "      <td>6.00</td>\n",
       "      <td>57.00</td>\n",
       "      <td>9.00</td>\n",
       "      <td>9991.00</td>\n",
       "      <td>1.00</td>\n",
       "      <td>43.00</td>\n",
       "      <td>190.00</td>\n",
       "      <td>109.00</td>\n",
       "      <td>44.00</td>\n",
       "      <td>44.00</td>\n",
       "      <td>194.00</td>\n",
       "      <td>195.00</td>\n",
       "      <td>190.00</td>\n",
       "      <td>1.00</td>\n",
       "      <td>1.00</td>\n",
       "      <td>1.00</td>\n",
       "      <td>1.00</td>\n",
       "      <td>1.00</td>\n",
       "    </tr>\n",
       "  </tbody>\n",
       "</table>\n",
       "</div>"
      ],
      "text/plain": [
       "       Marital status  Application mode  Application order   Course  \\\n",
       "count         4424.00           4424.00            4424.00  4424.00   \n",
       "mean             1.18             18.67               1.73  8856.64   \n",
       "std              0.61             17.48               1.31  2063.57   \n",
       "min              1.00              1.00               0.00    33.00   \n",
       "25%              1.00              1.00               1.00  9085.00   \n",
       "50%              1.00             17.00               1.00  9238.00   \n",
       "75%              1.00             39.00               2.00  9556.00   \n",
       "max              6.00             57.00               9.00  9991.00   \n",
       "\n",
       "       Daytime/evening attendance  Previous qualification  \\\n",
       "count                     4424.00                 4424.00   \n",
       "mean                         0.89                    4.58   \n",
       "std                          0.31                   10.22   \n",
       "min                          0.00                    1.00   \n",
       "25%                          1.00                    1.00   \n",
       "50%                          1.00                    1.00   \n",
       "75%                          1.00                    1.00   \n",
       "max                          1.00                   43.00   \n",
       "\n",
       "       Previous qualification (grade)  Nationality  Mother's qualification  \\\n",
       "count                         4424.00      4424.00                 4424.00   \n",
       "mean                           132.61         1.87                   19.56   \n",
       "std                             13.19         6.91                   15.60   \n",
       "min                             95.00         1.00                    1.00   \n",
       "25%                            125.00         1.00                    2.00   \n",
       "50%                            133.10         1.00                   19.00   \n",
       "75%                            140.00         1.00                   37.00   \n",
       "max                            190.00       109.00                   44.00   \n",
       "\n",
       "       Father's qualification  Mother's occupation  Father's occupation  \\\n",
       "count                 4424.00              4424.00              4424.00   \n",
       "mean                    22.28                10.96                11.03   \n",
       "std                     15.34                26.42                25.26   \n",
       "min                      1.00                 0.00                 0.00   \n",
       "25%                      3.00                 4.00                 4.00   \n",
       "50%                     19.00                 5.00                 7.00   \n",
       "75%                     37.00                 9.00                 9.00   \n",
       "max                     44.00               194.00               195.00   \n",
       "\n",
       "       Admission grade  Displaced  Educational special needs   Debtor  \\\n",
       "count          4424.00    4424.00                    4424.00  4424.00   \n",
       "mean            126.98       0.55                       0.01     0.11   \n",
       "std              14.48       0.50                       0.11     0.32   \n",
       "min              95.00       0.00                       0.00     0.00   \n",
       "25%             117.90       0.00                       0.00     0.00   \n",
       "50%             126.10       1.00                       0.00     0.00   \n",
       "75%             134.80       1.00                       0.00     0.00   \n",
       "max             190.00       1.00                       1.00     1.00   \n",
       "\n",
       "       Tuition fees up to date   Gender  \n",
       "count                  4424.00  4424.00  \n",
       "mean                      0.88     0.35  \n",
       "std                       0.32     0.48  \n",
       "min                       0.00     0.00  \n",
       "25%                       1.00     0.00  \n",
       "50%                       1.00     0.00  \n",
       "75%                       1.00     1.00  \n",
       "max                       1.00     1.00  "
      ]
     },
     "execution_count": 10,
     "metadata": {},
     "output_type": "execute_result"
    }
   ],
   "source": [
    "school.iloc[:,:18].describe().round(2)"
   ]
  },
  {
   "cell_type": "code",
   "execution_count": 11,
   "id": "c67589e3-febd-4791-974d-767893f5a2cb",
   "metadata": {},
   "outputs": [
    {
     "data": {
      "text/plain": [
       "array([ 0,  1,  2,  3,  4,  5,  6,  7,  8,  9, 10, 11, 12, 13, 14, 15, 16,\n",
       "       17, 18, 19, 20, 21, 22, 23, 24, 25, 26, 27, 28, 29, 31, 32, 33, 36,\n",
       "       45], dtype=int64)"
      ]
     },
     "execution_count": 11,
     "metadata": {},
     "output_type": "execute_result"
    }
   ],
   "source": [
    "school['Curricular units 1st sem (evaluations)'].sort_values().unique()"
   ]
  },
  {
   "cell_type": "code",
   "execution_count": 12,
   "id": "34ac7d1d-4b67-48d9-903a-d915b0333be6",
   "metadata": {},
   "outputs": [
    {
     "data": {
      "image/png": "[encoded data removed]",
      "text/plain": [
       "<Figure size 640x480 with 1 Axes>"
      ]
     },
     "metadata": {},
     "output_type": "display_data"
    }
   ],
   "source": [
    "sns.boxplot(school['Curricular units 1st sem (evaluations)'])\n",
    "plt.show()"
   ]
  },
  {
   "cell_type": "code",
   "execution_count": 13,
   "id": "d07829c0-87cc-44cf-ac32-b5bfdba12170",
   "metadata": {},
   "outputs": [
    {
     "data": {
      "text/plain": [
       "array([5, 1, 2, 4, 3, 6, 7, 0], dtype=int64)"
      ]
     },
     "execution_count": 13,
     "metadata": {},
     "output_type": "execute_result"
    }
   ],
   "source": [
    "school.loc[school['Application order']==9,'Application order' ]=7\n",
    "school['Application order'].unique()"
   ]
  },
  {
   "cell_type": "code",
   "execution_count": 14,
   "id": "f40387ee-9ae4-4912-b79b-e02d4806bb4a",
   "metadata": {
    "colab": {
     "base_uri": "https://localhost:8080/",
     "height": 372
    },
    "executionInfo": {
     "elapsed": 572,
     "status": "ok",
     "timestamp": 1726435341824,
     "user": {
      "displayName": "Chidiebere Agate",
      "userId": "09150463183037036353"
     },
     "user_tz": -60
    },
    "id": "f40387ee-9ae4-4912-b79b-e02d4806bb4a",
    "outputId": "7ed8a5b5-05a5-4193-84f0-bd329af4eb37"
   },
   "outputs": [
    {
     "data": {
      "text/html": [
       "<div>\n",
       "<style scoped>\n",
       "    .dataframe tbody tr th:only-of-type {\n",
       "        vertical-align: middle;\n",
       "    }\n",
       "\n",
       "    .dataframe tbody tr th {\n",
       "        vertical-align: top;\n",
       "    }\n",
       "\n",
       "    .dataframe thead th {\n",
       "        text-align: right;\n",
       "    }\n",
       "</style>\n",
       "<table border=\"1\" class=\"dataframe\">\n",
       "  <thead>\n",
       "    <tr style=\"text-align: right;\">\n",
       "      <th></th>\n",
       "      <th>Scholarship holder</th>\n",
       "      <th>Age at enrollment</th>\n",
       "      <th>International</th>\n",
       "      <th>Curricular units 1st sem (credited)</th>\n",
       "      <th>Curricular units 1st sem (enrolled)</th>\n",
       "      <th>Curricular units 1st sem (evaluations)</th>\n",
       "      <th>Curricular units 1st sem (approved)</th>\n",
       "      <th>Curricular units 1st sem (grade)</th>\n",
       "      <th>Curricular units 1st sem (without evaluations)</th>\n",
       "      <th>Curricular units 2nd sem (credited)</th>\n",
       "      <th>Curricular units 2nd sem (enrolled)</th>\n",
       "      <th>Curricular units 2nd sem (evaluations)</th>\n",
       "      <th>Curricular units 2nd sem (approved)</th>\n",
       "      <th>Curricular units 2nd sem (grade)</th>\n",
       "      <th>Curricular units 2nd sem (without evaluations)</th>\n",
       "      <th>Unemployment rate</th>\n",
       "      <th>Inflation rate</th>\n",
       "      <th>GDP</th>\n",
       "    </tr>\n",
       "  </thead>\n",
       "  <tbody>\n",
       "    <tr>\n",
       "      <th>count</th>\n",
       "      <td>4424.00</td>\n",
       "      <td>4424.00</td>\n",
       "      <td>4424.00</td>\n",
       "      <td>4424.00</td>\n",
       "      <td>4424.00</td>\n",
       "      <td>4424.00</td>\n",
       "      <td>4424.00</td>\n",
       "      <td>4424.00</td>\n",
       "      <td>4424.00</td>\n",
       "      <td>4424.00</td>\n",
       "      <td>4424.00</td>\n",
       "      <td>4424.00</td>\n",
       "      <td>4424.00</td>\n",
       "      <td>4424.00</td>\n",
       "      <td>4424.00</td>\n",
       "      <td>4424.00</td>\n",
       "      <td>4424.00</td>\n",
       "      <td>4424.00</td>\n",
       "    </tr>\n",
       "    <tr>\n",
       "      <th>mean</th>\n",
       "      <td>0.25</td>\n",
       "      <td>23.27</td>\n",
       "      <td>0.02</td>\n",
       "      <td>0.71</td>\n",
       "      <td>6.27</td>\n",
       "      <td>8.30</td>\n",
       "      <td>4.71</td>\n",
       "      <td>10.64</td>\n",
       "      <td>0.14</td>\n",
       "      <td>0.54</td>\n",
       "      <td>6.23</td>\n",
       "      <td>8.06</td>\n",
       "      <td>4.44</td>\n",
       "      <td>10.23</td>\n",
       "      <td>0.15</td>\n",
       "      <td>11.57</td>\n",
       "      <td>1.23</td>\n",
       "      <td>0.00</td>\n",
       "    </tr>\n",
       "    <tr>\n",
       "      <th>std</th>\n",
       "      <td>0.43</td>\n",
       "      <td>7.59</td>\n",
       "      <td>0.16</td>\n",
       "      <td>2.36</td>\n",
       "      <td>2.48</td>\n",
       "      <td>4.18</td>\n",
       "      <td>3.09</td>\n",
       "      <td>4.84</td>\n",
       "      <td>0.69</td>\n",
       "      <td>1.92</td>\n",
       "      <td>2.20</td>\n",
       "      <td>3.95</td>\n",
       "      <td>3.01</td>\n",
       "      <td>5.21</td>\n",
       "      <td>0.75</td>\n",
       "      <td>2.66</td>\n",
       "      <td>1.38</td>\n",
       "      <td>2.27</td>\n",
       "    </tr>\n",
       "    <tr>\n",
       "      <th>min</th>\n",
       "      <td>0.00</td>\n",
       "      <td>17.00</td>\n",
       "      <td>0.00</td>\n",
       "      <td>0.00</td>\n",
       "      <td>0.00</td>\n",
       "      <td>0.00</td>\n",
       "      <td>0.00</td>\n",
       "      <td>0.00</td>\n",
       "      <td>0.00</td>\n",
       "      <td>0.00</td>\n",
       "      <td>0.00</td>\n",
       "      <td>0.00</td>\n",
       "      <td>0.00</td>\n",
       "      <td>0.00</td>\n",
       "      <td>0.00</td>\n",
       "      <td>7.60</td>\n",
       "      <td>-0.80</td>\n",
       "      <td>-4.06</td>\n",
       "    </tr>\n",
       "    <tr>\n",
       "      <th>25%</th>\n",
       "      <td>0.00</td>\n",
       "      <td>19.00</td>\n",
       "      <td>0.00</td>\n",
       "      <td>0.00</td>\n",
       "      <td>5.00</td>\n",
       "      <td>6.00</td>\n",
       "      <td>3.00</td>\n",
       "      <td>11.00</td>\n",
       "      <td>0.00</td>\n",
       "      <td>0.00</td>\n",
       "      <td>5.00</td>\n",
       "      <td>6.00</td>\n",
       "      <td>2.00</td>\n",
       "      <td>10.75</td>\n",
       "      <td>0.00</td>\n",
       "      <td>9.40</td>\n",
       "      <td>0.30</td>\n",
       "      <td>-1.70</td>\n",
       "    </tr>\n",
       "    <tr>\n",
       "      <th>50%</th>\n",
       "      <td>0.00</td>\n",
       "      <td>20.00</td>\n",
       "      <td>0.00</td>\n",
       "      <td>0.00</td>\n",
       "      <td>6.00</td>\n",
       "      <td>8.00</td>\n",
       "      <td>5.00</td>\n",
       "      <td>12.29</td>\n",
       "      <td>0.00</td>\n",
       "      <td>0.00</td>\n",
       "      <td>6.00</td>\n",
       "      <td>8.00</td>\n",
       "      <td>5.00</td>\n",
       "      <td>12.20</td>\n",
       "      <td>0.00</td>\n",
       "      <td>11.10</td>\n",
       "      <td>1.40</td>\n",
       "      <td>0.32</td>\n",
       "    </tr>\n",
       "    <tr>\n",
       "      <th>75%</th>\n",
       "      <td>0.00</td>\n",
       "      <td>25.00</td>\n",
       "      <td>0.00</td>\n",
       "      <td>0.00</td>\n",
       "      <td>7.00</td>\n",
       "      <td>10.00</td>\n",
       "      <td>6.00</td>\n",
       "      <td>13.40</td>\n",
       "      <td>0.00</td>\n",
       "      <td>0.00</td>\n",
       "      <td>7.00</td>\n",
       "      <td>10.00</td>\n",
       "      <td>6.00</td>\n",
       "      <td>13.33</td>\n",
       "      <td>0.00</td>\n",
       "      <td>13.90</td>\n",
       "      <td>2.60</td>\n",
       "      <td>1.79</td>\n",
       "    </tr>\n",
       "    <tr>\n",
       "      <th>max</th>\n",
       "      <td>1.00</td>\n",
       "      <td>70.00</td>\n",
       "      <td>1.00</td>\n",
       "      <td>20.00</td>\n",
       "      <td>26.00</td>\n",
       "      <td>45.00</td>\n",
       "      <td>26.00</td>\n",
       "      <td>18.88</td>\n",
       "      <td>12.00</td>\n",
       "      <td>19.00</td>\n",
       "      <td>23.00</td>\n",
       "      <td>33.00</td>\n",
       "      <td>20.00</td>\n",
       "      <td>18.57</td>\n",
       "      <td>12.00</td>\n",
       "      <td>16.20</td>\n",
       "      <td>3.70</td>\n",
       "      <td>3.51</td>\n",
       "    </tr>\n",
       "  </tbody>\n",
       "</table>\n",
       "</div>"
      ],
      "text/plain": [
       "       Scholarship holder  Age at enrollment  International  \\\n",
       "count             4424.00            4424.00        4424.00   \n",
       "mean                 0.25              23.27           0.02   \n",
       "std                  0.43               7.59           0.16   \n",
       "min                  0.00              17.00           0.00   \n",
       "25%                  0.00              19.00           0.00   \n",
       "50%                  0.00              20.00           0.00   \n",
       "75%                  0.00              25.00           0.00   \n",
       "max                  1.00              70.00           1.00   \n",
       "\n",
       "       Curricular units 1st sem (credited)  \\\n",
       "count                              4424.00   \n",
       "mean                                  0.71   \n",
       "std                                   2.36   \n",
       "min                                   0.00   \n",
       "25%                                   0.00   \n",
       "50%                                   0.00   \n",
       "75%                                   0.00   \n",
       "max                                  20.00   \n",
       "\n",
       "       Curricular units 1st sem (enrolled)  \\\n",
       "count                              4424.00   \n",
       "mean                                  6.27   \n",
       "std                                   2.48   \n",
       "min                                   0.00   \n",
       "25%                                   5.00   \n",
       "50%                                   6.00   \n",
       "75%                                   7.00   \n",
       "max                                  26.00   \n",
       "\n",
       "       Curricular units 1st sem (evaluations)  \\\n",
       "count                                 4424.00   \n",
       "mean                                     8.30   \n",
       "std                                      4.18   \n",
       "min                                      0.00   \n",
       "25%                                      6.00   \n",
       "50%                                      8.00   \n",
       "75%                                     10.00   \n",
       "max                                     45.00   \n",
       "\n",
       "       Curricular units 1st sem (approved)  Curricular units 1st sem (grade)  \\\n",
       "count                              4424.00                           4424.00   \n",
       "mean                                  4.71                             10.64   \n",
       "std                                   3.09                              4.84   \n",
       "min                                   0.00                              0.00   \n",
       "25%                                   3.00                             11.00   \n",
       "50%                                   5.00                             12.29   \n",
       "75%                                   6.00                             13.40   \n",
       "max                                  26.00                             18.88   \n",
       "\n",
       "       Curricular units 1st sem (without evaluations)  \\\n",
       "count                                         4424.00   \n",
       "mean                                             0.14   \n",
       "std                                              0.69   \n",
       "min                                              0.00   \n",
       "25%                                              0.00   \n",
       "50%                                              0.00   \n",
       "75%                                              0.00   \n",
       "max                                             12.00   \n",
       "\n",
       "       Curricular units 2nd sem (credited)  \\\n",
       "count                              4424.00   \n",
       "mean                                  0.54   \n",
       "std                                   1.92   \n",
       "min                                   0.00   \n",
       "25%                                   0.00   \n",
       "50%                                   0.00   \n",
       "75%                                   0.00   \n",
       "max                                  19.00   \n",
       "\n",
       "       Curricular units 2nd sem (enrolled)  \\\n",
       "count                              4424.00   \n",
       "mean                                  6.23   \n",
       "std                                   2.20   \n",
       "min                                   0.00   \n",
       "25%                                   5.00   \n",
       "50%                                   6.00   \n",
       "75%                                   7.00   \n",
       "max                                  23.00   \n",
       "\n",
       "       Curricular units 2nd sem (evaluations)  \\\n",
       "count                                 4424.00   \n",
       "mean                                     8.06   \n",
       "std                                      3.95   \n",
       "min                                      0.00   \n",
       "25%                                      6.00   \n",
       "50%                                      8.00   \n",
       "75%                                     10.00   \n",
       "max                                     33.00   \n",
       "\n",
       "       Curricular units 2nd sem (approved)  Curricular units 2nd sem (grade)  \\\n",
       "count                              4424.00                           4424.00   \n",
       "mean                                  4.44                             10.23   \n",
       "std                                   3.01                              5.21   \n",
       "min                                   0.00                              0.00   \n",
       "25%                                   2.00                             10.75   \n",
       "50%                                   5.00                             12.20   \n",
       "75%                                   6.00                             13.33   \n",
       "max                                  20.00                             18.57   \n",
       "\n",
       "       Curricular units 2nd sem (without evaluations)  Unemployment rate  \\\n",
       "count                                         4424.00            4424.00   \n",
       "mean                                             0.15              11.57   \n",
       "std                                              0.75               2.66   \n",
       "min                                              0.00               7.60   \n",
       "25%                                              0.00               9.40   \n",
       "50%                                              0.00              11.10   \n",
       "75%                                              0.00              13.90   \n",
       "max                                             12.00              16.20   \n",
       "\n",
       "       Inflation rate      GDP  \n",
       "count         4424.00  4424.00  \n",
       "mean             1.23     0.00  \n",
       "std              1.38     2.27  \n",
       "min             -0.80    -4.06  \n",
       "25%              0.30    -1.70  \n",
       "50%              1.40     0.32  \n",
       "75%              2.60     1.79  \n",
       "max              3.70     3.51  "
      ]
     },
     "execution_count": 14,
     "metadata": {},
     "output_type": "execute_result"
    }
   ],
   "source": [
    "school.iloc[:,18:].describe().round(2)"
   ]
  },
  {
   "cell_type": "code",
   "execution_count": null,
   "id": "2d8c505f-482e-428a-8288-1ab7b91d23eb",
   "metadata": {},
   "outputs": [],
   "source": []
  },
  {
   "cell_type": "code",
   "execution_count": 15,
   "id": "7a9d1616-df32-48fa-bb86-73416028f179",
   "metadata": {
    "colab": {
     "base_uri": "https://localhost:8080/"
    },
    "executionInfo": {
     "elapsed": 30,
     "status": "ok",
     "timestamp": 1726435341824,
     "user": {
      "displayName": "Chidiebere Agate",
      "userId": "09150463183037036353"
     },
     "user_tz": -60
    },
    "id": "7a9d1616-df32-48fa-bb86-73416028f179",
    "outputId": "f90b43e3-6a14-49a0-9e84-6ee113bf68a2"
   },
   "outputs": [
    {
     "name": "stdout",
     "output_type": "stream",
     "text": [
      "Marital status                                    0\n",
      "Application mode                                  0\n",
      "Application order                                 0\n",
      "Course                                            0\n",
      "Daytime/evening attendance                        0\n",
      "Previous qualification                            0\n",
      "Previous qualification (grade)                    0\n",
      "Nationality                                       0\n",
      "Mother's qualification                            0\n",
      "Father's qualification                            0\n",
      "Mother's occupation                               0\n",
      "Father's occupation                               0\n",
      "Admission grade                                   0\n",
      "Displaced                                         0\n",
      "Educational special needs                         0\n",
      "Debtor                                            0\n",
      "Tuition fees up to date                           0\n",
      "Gender                                            0\n",
      "Scholarship holder                                0\n",
      "Age at enrollment                                 0\n",
      "International                                     0\n",
      "Curricular units 1st sem (credited)               0\n",
      "Curricular units 1st sem (enrolled)               0\n",
      "Curricular units 1st sem (evaluations)            0\n",
      "Curricular units 1st sem (approved)               0\n",
      "Curricular units 1st sem (grade)                  0\n",
      "Curricular units 1st sem (without evaluations)    0\n",
      "Curricular units 2nd sem (credited)               0\n",
      "Curricular units 2nd sem (enrolled)               0\n",
      "Curricular units 2nd sem (evaluations)            0\n",
      "Curricular units 2nd sem (approved)               0\n",
      "Curricular units 2nd sem (grade)                  0\n",
      "Curricular units 2nd sem (without evaluations)    0\n",
      "Unemployment rate                                 0\n",
      "Inflation rate                                    0\n",
      "GDP                                               0\n",
      "Target                                            0\n",
      "dtype: int64\n"
     ]
    }
   ],
   "source": [
    "# Checking for missing values\n",
    "print(school.isna().sum())"
   ]
  },
  {
   "cell_type": "code",
   "execution_count": 16,
   "id": "3a8e3156-5f23-4392-a668-49418d13be90",
   "metadata": {
    "colab": {
     "base_uri": "https://localhost:8080/"
    },
    "executionInfo": {
     "elapsed": 26,
     "status": "ok",
     "timestamp": 1726435341825,
     "user": {
      "displayName": "Chidiebere Agate",
      "userId": "09150463183037036353"
     },
     "user_tz": -60
    },
    "id": "3a8e3156-5f23-4392-a668-49418d13be90",
    "outputId": "a3f9a389-4afe-4131-ce55-2db00256025a"
   },
   "outputs": [
    {
     "data": {
      "text/plain": [
       "0"
      ]
     },
     "execution_count": 16,
     "metadata": {},
     "output_type": "execute_result"
    }
   ],
   "source": [
    "# Checking for duplicted rows\n",
    "school.duplicated().sum()"
   ]
  },
  {
   "cell_type": "code",
   "execution_count": 17,
   "id": "e39d4702-877a-4133-b877-f3339d6488af",
   "metadata": {
    "colab": {
     "base_uri": "https://localhost:8080/"
    },
    "executionInfo": {
     "elapsed": 22,
     "status": "ok",
     "timestamp": 1726435341826,
     "user": {
      "displayName": "Chidiebere Agate",
      "userId": "09150463183037036353"
     },
     "user_tz": -60
    },
    "id": "e39d4702-877a-4133-b877-f3339d6488af",
    "outputId": "9547815c-ab36-42e9-d694-c2610bffac6f"
   },
   "outputs": [
    {
     "data": {
      "text/plain": [
       "array([1, 2, 3, 4, 5, 6], dtype=int64)"
      ]
     },
     "execution_count": 17,
     "metadata": {},
     "output_type": "execute_result"
    }
   ],
   "source": [
    "school['Marital status'].sort_values().unique()"
   ]
  },
  {
   "cell_type": "code",
   "execution_count": 18,
   "id": "VYHVGE8yjpzg",
   "metadata": {
    "colab": {
     "base_uri": "https://localhost:8080/"
    },
    "executionInfo": {
     "elapsed": 20,
     "status": "ok",
     "timestamp": 1726435341826,
     "user": {
      "displayName": "Chidiebere Agate",
      "userId": "09150463183037036353"
     },
     "user_tz": -60
    },
    "id": "VYHVGE8yjpzg",
    "outputId": "4c90a12f-cccd-4535-acf5-a8c119561a86"
   },
   "outputs": [
    {
     "data": {
      "text/plain": [
       "array([ 1,  2,  5,  7, 10, 15, 16, 17, 18, 26, 27, 39, 42, 43, 44, 51, 53,\n",
       "       57], dtype=int64)"
      ]
     },
     "execution_count": 18,
     "metadata": {},
     "output_type": "execute_result"
    }
   ],
   "source": [
    "school['Application mode'].sort_values().unique()"
   ]
  },
  {
   "cell_type": "code",
   "execution_count": 19,
   "id": "863134e5-fc65-4fd7-b760-b9da6197541b",
   "metadata": {
    "colab": {
     "base_uri": "https://localhost:8080/"
    },
    "executionInfo": {
     "elapsed": 20,
     "status": "ok",
     "timestamp": 1726435341827,
     "user": {
      "displayName": "Chidiebere Agate",
      "userId": "09150463183037036353"
     },
     "user_tz": -60
    },
    "id": "863134e5-fc65-4fd7-b760-b9da6197541b",
    "outputId": "8bce8b9e-3620-48f6-b55b-43d7534b0a47"
   },
   "outputs": [
    {
     "data": {
      "text/plain": [
       "array([ 1, 19, 42, 39, 10,  3, 40,  2,  4, 12, 43, 15,  6,  9, 38,  5, 14],\n",
       "      dtype=int64)"
      ]
     },
     "execution_count": 19,
     "metadata": {},
     "output_type": "execute_result"
    }
   ],
   "source": [
    "school[\"Previous qualification\"].unique()"
   ]
  },
  {
   "cell_type": "code",
   "execution_count": 20,
   "id": "d61ea6f9-ea40-496a-9165-1c008215ee31",
   "metadata": {
    "colab": {
     "base_uri": "https://localhost:8080/"
    },
    "executionInfo": {
     "elapsed": 18,
     "status": "ok",
     "timestamp": 1726435341827,
     "user": {
      "displayName": "Chidiebere Agate",
      "userId": "09150463183037036353"
     },
     "user_tz": -60
    },
    "id": "d61ea6f9-ea40-496a-9165-1c008215ee31",
    "outputId": "27af23ca-d418-4a2f-b342-32d6f45d486f"
   },
   "outputs": [
    {
     "data": {
      "text/plain": [
       "array([1, 0], dtype=int64)"
      ]
     },
     "execution_count": 20,
     "metadata": {},
     "output_type": "execute_result"
    }
   ],
   "source": [
    "school['Tuition fees up to date'].unique()"
   ]
  },
  {
   "cell_type": "markdown",
   "id": "pUAsQ2U3J9Pw",
   "metadata": {
    "id": "pUAsQ2U3J9Pw"
   },
   "source": [
    "## Step 3"
   ]
  },
  {
   "cell_type": "code",
   "execution_count": 22,
   "id": "020c404c-a392-4b13-a2a1-adfa4cdaa265",
   "metadata": {
    "executionInfo": {
     "elapsed": 570,
     "status": "ok",
     "timestamp": 1726435342381,
     "user": {
      "displayName": "Chidiebere Agate",
      "userId": "09150463183037036353"
     },
     "user_tz": -60
    },
    "id": "020c404c-a392-4b13-a2a1-adfa4cdaa265"
   },
   "outputs": [],
   "source": [
    "# Encoding the Categorical variables and the imbalanced ones\n",
    "encode_variables = school[['Marital status','Displaced','Application mode','Application order','Previous qualification','Nationality',\"Mother's qualification\",\"Father's qualification\",\"Mother's occupation\",\"Father's occupation\",'International','Scholarship holder','Gender','Tuition fees up to date','Debtor','Educational special needs',\"Daytime/evening attendance\",'Target','Course','Curricular units 1st sem (credited)','Curricular units 1st sem (enrolled)','Curricular units 1st sem (evaluations)','Curricular units 1st sem (approved)','Curricular units 1st sem (grade)','Curricular units 1st sem (without evaluations)','Curricular units 2nd sem (credited)','Curricular units 2nd sem (enrolled)','Curricular units 2nd sem (evaluations)','Curricular units 2nd sem (approved)','Curricular units 2nd sem (grade)','Curricular units 2nd sem (without evaluations)']]\n",
    "for variable in encode_variables:\n",
    "    school[f'{variable}'] = encoder.fit_transform(school[f'{variable}'])\n",
    "\n",
    "for variable in encode_variables:\n",
    "    school[f'{variable}'] = school[f'{variable}'].astype(str)\n"
   ]
  },
  {
   "cell_type": "code",
   "execution_count": 23,
   "id": "07b42d17-250b-48a2-900b-8a0e3e9d8445",
   "metadata": {
    "colab": {
     "base_uri": "https://localhost:8080/"
    },
    "executionInfo": {
     "elapsed": 23,
     "status": "ok",
     "timestamp": 1726435342382,
     "user": {
      "displayName": "Chidiebere Agate",
      "userId": "09150463183037036353"
     },
     "user_tz": -60
    },
    "id": "07b42d17-250b-48a2-900b-8a0e3e9d8445",
    "outputId": "a2b59627-9a44-47e2-bdb1-77605f170334"
   },
   "outputs": [
    {
     "name": "stdout",
     "output_type": "stream",
     "text": [
      "<class 'pandas.core.frame.DataFrame'>\n",
      "RangeIndex: 4424 entries, 0 to 4423\n",
      "Data columns (total 37 columns):\n",
      " #   Column                                          Non-Null Count  Dtype  \n",
      "---  ------                                          --------------  -----  \n",
      " 0   Marital status                                  4424 non-null   object \n",
      " 1   Application mode                                4424 non-null   object \n",
      " 2   Application order                               4424 non-null   object \n",
      " 3   Course                                          4424 non-null   object \n",
      " 4   Daytime/evening attendance                      4424 non-null   object \n",
      " 5   Previous qualification                          4424 non-null   object \n",
      " 6   Previous qualification (grade)                  4424 non-null   float64\n",
      " 7   Nationality                                     4424 non-null   object \n",
      " 8   Mother's qualification                          4424 non-null   object \n",
      " 9   Father's qualification                          4424 non-null   object \n",
      " 10  Mother's occupation                             4424 non-null   object \n",
      " 11  Father's occupation                             4424 non-null   object \n",
      " 12  Admission grade                                 4424 non-null   float64\n",
      " 13  Displaced                                       4424 non-null   object \n",
      " 14  Educational special needs                       4424 non-null   object \n",
      " 15  Debtor                                          4424 non-null   object \n",
      " 16  Tuition fees up to date                         4424 non-null   object \n",
      " 17  Gender                                          4424 non-null   object \n",
      " 18  Scholarship holder                              4424 non-null   object \n",
      " 19  Age at enrollment                               4424 non-null   int64  \n",
      " 20  International                                   4424 non-null   object \n",
      " 21  Curricular units 1st sem (credited)             4424 non-null   object \n",
      " 22  Curricular units 1st sem (enrolled)             4424 non-null   object \n",
      " 23  Curricular units 1st sem (evaluations)          4424 non-null   object \n",
      " 24  Curricular units 1st sem (approved)             4424 non-null   object \n",
      " 25  Curricular units 1st sem (grade)                4424 non-null   object \n",
      " 26  Curricular units 1st sem (without evaluations)  4424 non-null   object \n",
      " 27  Curricular units 2nd sem (credited)             4424 non-null   object \n",
      " 28  Curricular units 2nd sem (enrolled)             4424 non-null   object \n",
      " 29  Curricular units 2nd sem (evaluations)          4424 non-null   object \n",
      " 30  Curricular units 2nd sem (approved)             4424 non-null   object \n",
      " 31  Curricular units 2nd sem (grade)                4424 non-null   object \n",
      " 32  Curricular units 2nd sem (without evaluations)  4424 non-null   object \n",
      " 33  Unemployment rate                               4424 non-null   float64\n",
      " 34  Inflation rate                                  4424 non-null   float64\n",
      " 35  GDP                                             4424 non-null   float64\n",
      " 36  Target                                          4424 non-null   object \n",
      "dtypes: float64(5), int64(1), object(31)\n",
      "memory usage: 1.2+ MB\n"
     ]
    }
   ],
   "source": [
    "school.info()"
   ]
  },
  {
   "cell_type": "code",
   "execution_count": 24,
   "id": "c2b67e67-c0d2-4fa3-b237-431896a91289",
   "metadata": {
    "colab": {
     "base_uri": "https://localhost:8080/"
    },
    "executionInfo": {
     "elapsed": 21,
     "status": "ok",
     "timestamp": 1726435342382,
     "user": {
      "displayName": "Chidiebere Agate",
      "userId": "09150463183037036353"
     },
     "user_tz": -60
    },
    "id": "c2b67e67-c0d2-4fa3-b237-431896a91289",
    "outputId": "8865415a-a2de-4e55-e05e-257b89d62b49"
   },
   "outputs": [
    {
     "data": {
      "text/plain": [
       "array(['0', '1'], dtype=object)"
      ]
     },
     "execution_count": 24,
     "metadata": {},
     "output_type": "execute_result"
    }
   ],
   "source": [
    "# Verifying the encoded column\n",
    "school[\"Gender\"].sort_values().unique()"
   ]
  },
  {
   "cell_type": "code",
   "execution_count": 75,
   "id": "88609d68-c409-4f7c-bc06-bbe7acea12f5",
   "metadata": {},
   "outputs": [
    {
     "data": {
      "text/html": [
       "<div>\n",
       "<style scoped>\n",
       "    .dataframe tbody tr th:only-of-type {\n",
       "        vertical-align: middle;\n",
       "    }\n",
       "\n",
       "    .dataframe tbody tr th {\n",
       "        vertical-align: top;\n",
       "    }\n",
       "\n",
       "    .dataframe thead th {\n",
       "        text-align: right;\n",
       "    }\n",
       "</style>\n",
       "<table border=\"1\" class=\"dataframe\">\n",
       "  <thead>\n",
       "    <tr style=\"text-align: right;\">\n",
       "      <th></th>\n",
       "      <th>Marital status</th>\n",
       "      <th>Application mode</th>\n",
       "      <th>Application order</th>\n",
       "      <th>Course</th>\n",
       "      <th>Daytime/evening attendance</th>\n",
       "      <th>Previous qualification</th>\n",
       "      <th>Nationality</th>\n",
       "      <th>Mother's qualification</th>\n",
       "      <th>Father's qualification</th>\n",
       "      <th>Mother's occupation</th>\n",
       "      <th>...</th>\n",
       "      <th>Curricular units 1st sem (approved)</th>\n",
       "      <th>Curricular units 1st sem (grade)</th>\n",
       "      <th>Curricular units 1st sem (without evaluations)</th>\n",
       "      <th>Curricular units 2nd sem (credited)</th>\n",
       "      <th>Curricular units 2nd sem (enrolled)</th>\n",
       "      <th>Curricular units 2nd sem (evaluations)</th>\n",
       "      <th>Curricular units 2nd sem (approved)</th>\n",
       "      <th>Curricular units 2nd sem (grade)</th>\n",
       "      <th>Curricular units 2nd sem (without evaluations)</th>\n",
       "      <th>Target</th>\n",
       "    </tr>\n",
       "  </thead>\n",
       "  <tbody>\n",
       "    <tr>\n",
       "      <th>count</th>\n",
       "      <td>4424</td>\n",
       "      <td>4424</td>\n",
       "      <td>4424</td>\n",
       "      <td>4424</td>\n",
       "      <td>4424</td>\n",
       "      <td>4424</td>\n",
       "      <td>4424</td>\n",
       "      <td>4424</td>\n",
       "      <td>4424</td>\n",
       "      <td>4424</td>\n",
       "      <td>...</td>\n",
       "      <td>4424</td>\n",
       "      <td>4424</td>\n",
       "      <td>4424</td>\n",
       "      <td>4424</td>\n",
       "      <td>4424</td>\n",
       "      <td>4424</td>\n",
       "      <td>4424</td>\n",
       "      <td>4424</td>\n",
       "      <td>4424</td>\n",
       "      <td>4424</td>\n",
       "    </tr>\n",
       "    <tr>\n",
       "      <th>unique</th>\n",
       "      <td>6</td>\n",
       "      <td>18</td>\n",
       "      <td>8</td>\n",
       "      <td>17</td>\n",
       "      <td>2</td>\n",
       "      <td>17</td>\n",
       "      <td>21</td>\n",
       "      <td>29</td>\n",
       "      <td>34</td>\n",
       "      <td>32</td>\n",
       "      <td>...</td>\n",
       "      <td>23</td>\n",
       "      <td>435</td>\n",
       "      <td>11</td>\n",
       "      <td>19</td>\n",
       "      <td>22</td>\n",
       "      <td>30</td>\n",
       "      <td>20</td>\n",
       "      <td>441</td>\n",
       "      <td>10</td>\n",
       "      <td>3</td>\n",
       "    </tr>\n",
       "    <tr>\n",
       "      <th>top</th>\n",
       "      <td>0</td>\n",
       "      <td>0</td>\n",
       "      <td>1</td>\n",
       "      <td>11</td>\n",
       "      <td>1</td>\n",
       "      <td>0</td>\n",
       "      <td>0</td>\n",
       "      <td>0</td>\n",
       "      <td>26</td>\n",
       "      <td>9</td>\n",
       "      <td>...</td>\n",
       "      <td>6</td>\n",
       "      <td>0</td>\n",
       "      <td>0</td>\n",
       "      <td>0</td>\n",
       "      <td>6</td>\n",
       "      <td>8</td>\n",
       "      <td>6</td>\n",
       "      <td>0</td>\n",
       "      <td>0</td>\n",
       "      <td>2</td>\n",
       "    </tr>\n",
       "    <tr>\n",
       "      <th>freq</th>\n",
       "      <td>3919</td>\n",
       "      <td>1708</td>\n",
       "      <td>3026</td>\n",
       "      <td>766</td>\n",
       "      <td>3941</td>\n",
       "      <td>3717</td>\n",
       "      <td>4314</td>\n",
       "      <td>1069</td>\n",
       "      <td>1209</td>\n",
       "      <td>1577</td>\n",
       "      <td>...</td>\n",
       "      <td>1171</td>\n",
       "      <td>718</td>\n",
       "      <td>4130</td>\n",
       "      <td>3894</td>\n",
       "      <td>1913</td>\n",
       "      <td>792</td>\n",
       "      <td>965</td>\n",
       "      <td>870</td>\n",
       "      <td>4142</td>\n",
       "      <td>2209</td>\n",
       "    </tr>\n",
       "  </tbody>\n",
       "</table>\n",
       "<p>4 rows × 31 columns</p>\n",
       "</div>"
      ],
      "text/plain": [
       "       Marital status Application mode Application order Course  \\\n",
       "count            4424             4424              4424   4424   \n",
       "unique              6               18                 8     17   \n",
       "top                 0                0                 1     11   \n",
       "freq             3919             1708              3026    766   \n",
       "\n",
       "       Daytime/evening attendance Previous qualification Nationality  \\\n",
       "count                        4424                   4424        4424   \n",
       "unique                          2                     17          21   \n",
       "top                             1                      0           0   \n",
       "freq                         3941                   3717        4314   \n",
       "\n",
       "       Mother's qualification Father's qualification Mother's occupation  ...  \\\n",
       "count                    4424                   4424                4424  ...   \n",
       "unique                     29                     34                  32  ...   \n",
       "top                         0                     26                   9  ...   \n",
       "freq                     1069                   1209                1577  ...   \n",
       "\n",
       "       Curricular units 1st sem (approved) Curricular units 1st sem (grade)  \\\n",
       "count                                 4424                             4424   \n",
       "unique                                  23                              435   \n",
       "top                                      6                                0   \n",
       "freq                                  1171                              718   \n",
       "\n",
       "       Curricular units 1st sem (without evaluations)  \\\n",
       "count                                            4424   \n",
       "unique                                             11   \n",
       "top                                                 0   \n",
       "freq                                             4130   \n",
       "\n",
       "       Curricular units 2nd sem (credited)  \\\n",
       "count                                 4424   \n",
       "unique                                  19   \n",
       "top                                      0   \n",
       "freq                                  3894   \n",
       "\n",
       "       Curricular units 2nd sem (enrolled)  \\\n",
       "count                                 4424   \n",
       "unique                                  22   \n",
       "top                                      6   \n",
       "freq                                  1913   \n",
       "\n",
       "       Curricular units 2nd sem (evaluations)  \\\n",
       "count                                    4424   \n",
       "unique                                     30   \n",
       "top                                         8   \n",
       "freq                                      792   \n",
       "\n",
       "       Curricular units 2nd sem (approved) Curricular units 2nd sem (grade)  \\\n",
       "count                                 4424                             4424   \n",
       "unique                                  20                              441   \n",
       "top                                      6                                0   \n",
       "freq                                   965                              870   \n",
       "\n",
       "       Curricular units 2nd sem (without evaluations) Target  \n",
       "count                                            4424   4424  \n",
       "unique                                             10      3  \n",
       "top                                                 0      2  \n",
       "freq                                             4142   2209  \n",
       "\n",
       "[4 rows x 31 columns]"
      ]
     },
     "execution_count": 75,
     "metadata": {},
     "output_type": "execute_result"
    }
   ],
   "source": [
    "school.select_dtypes(include=['object']).describe()"
   ]
  },
  {
   "cell_type": "markdown",
   "id": "cKKAp9H0KDbZ",
   "metadata": {
    "id": "cKKAp9H0KDbZ"
   },
   "source": [
    "## Step 4"
   ]
  },
  {
   "cell_type": "markdown",
   "id": "8949de10-13d6-4d14-88a5-4ab0d9d1d9f7",
   "metadata": {
    "id": "8949de10-13d6-4d14-88a5-4ab0d9d1d9f7"
   },
   "source": [
    "# Numerical Column Nomalizing"
   ]
  },
  {
   "cell_type": "code",
   "execution_count": 29,
   "id": "3e75889c-69cc-4be1-a042-65905fc7816a",
   "metadata": {
    "colab": {
     "base_uri": "https://localhost:8080/",
     "height": 429
    },
    "executionInfo": {
     "elapsed": 16,
     "status": "ok",
     "timestamp": 1726435342382,
     "user": {
      "displayName": "Chidiebere Agate",
      "userId": "09150463183037036353"
     },
     "user_tz": -60
    },
    "id": "3e75889c-69cc-4be1-a042-65905fc7816a",
    "outputId": "e9c36d2c-c9fd-46d0-82f9-541819ca598e"
   },
   "outputs": [
    {
     "data": {
      "text/plain": [
       "Previous qualification (grade)    173.932093\n",
       "Admission grade                   209.728348\n",
       "Unemployment rate                   7.096099\n",
       "Inflation rate                      1.911889\n",
       "GDP                                 5.152607\n",
       "dtype: float64"
      ]
     },
     "execution_count": 29,
     "metadata": {},
     "output_type": "execute_result"
    }
   ],
   "source": [
    "#Checking the variance of the numeric variables\n",
    "numeric_values = school[['Previous qualification (grade)','Admission grade', 'Unemployment rate','Inflation rate','GDP']]\n",
    "numeric_values.var()"
   ]
  },
  {
   "cell_type": "code",
   "execution_count": 30,
   "id": "aaf659db-fbe6-4016-89bd-8a0b74a2dad0",
   "metadata": {
    "colab": {
     "base_uri": "https://localhost:8080/",
     "height": 429
    },
    "executionInfo": {
     "elapsed": 15,
     "status": "ok",
     "timestamp": 1726435342382,
     "user": {
      "displayName": "Chidiebere Agate",
      "userId": "09150463183037036353"
     },
     "user_tz": -60
    },
    "id": "aaf659db-fbe6-4016-89bd-8a0b74a2dad0",
    "outputId": "5cb2161c-6c14-4337-b348-49c19d2c8c31"
   },
   "outputs": [
    {
     "data": {
      "text/plain": [
       "Previous qualification (grade)    173.932093\n",
       "Admission grade                   209.728348\n",
       "Unemployment rate                   7.096099\n",
       "Inflation rate                      1.911889\n",
       "GDP                                 5.152607\n",
       "dtype: float64"
      ]
     },
     "execution_count": 30,
     "metadata": {},
     "output_type": "execute_result"
    }
   ],
   "source": [
    "numeric_values.var()"
   ]
  },
  {
   "cell_type": "code",
   "execution_count": 31,
   "id": "477fc193-3fda-48dd-97a1-7e7360dbdaca",
   "metadata": {
    "colab": {
     "base_uri": "https://localhost:8080/",
     "height": 1000
    },
    "executionInfo": {
     "elapsed": 4680,
     "status": "ok",
     "timestamp": 1726435347048,
     "user": {
      "displayName": "Chidiebere Agate",
      "userId": "09150463183037036353"
     },
     "user_tz": -60
    },
    "id": "477fc193-3fda-48dd-97a1-7e7360dbdaca",
    "outputId": "827e33a6-546d-4803-dfbd-b1b1b30cc70d"
   },
   "outputs": [
    {
     "data": {
      "image/png": "[encoded data removed]",
      "text/plain": [
       "<Figure size 640x480 with 1 Axes>"
      ]
     },
     "metadata": {},
     "output_type": "display_data"
    },
    {
     "data": {
      "image/png": "[encoded data removed]",
      "text/plain": [
       "<Figure size 640x480 with 1 Axes>"
      ]
     },
     "metadata": {},
     "output_type": "display_data"
    },
    {
     "data": {
      "image/png": "[encoded data removed]",
      "text/plain": [
       "<Figure size 640x480 with 1 Axes>"
      ]
     },
     "metadata": {},
     "output_type": "display_data"
    },
    {
     "data": {
      "image/png": "[encoded data removed]",
      "text/plain": [
       "<Figure size 640x480 with 1 Axes>"
      ]
     },
     "metadata": {},
     "output_type": "display_data"
    },
    {
     "data": {
      "image/png": "[encoded data removed]",
      "text/plain": [
       "<Figure size 640x480 with 1 Axes>"
      ]
     },
     "metadata": {},
     "output_type": "display_data"
    }
   ],
   "source": [
    "# Checking the distribution of the numeric variables\n",
    "for numeric in numeric_values:\n",
    "    plt.boxplot(school[f'{numeric}'])\n",
    "    plt.title(f'{numeric} Distribution')\n",
    "    plt.show()"
   ]
  },
  {
   "cell_type": "code",
   "execution_count": 32,
   "id": "aa287d99-2c04-4dfd-bb9c-4e0c8e96e47f",
   "metadata": {
    "colab": {
     "base_uri": "https://localhost:8080/",
     "height": 1000
    },
    "executionInfo": {
     "elapsed": 8578,
     "status": "ok",
     "timestamp": 1726435355616,
     "user": {
      "displayName": "Chidiebere Agate",
      "userId": "09150463183037036353"
     },
     "user_tz": -60
    },
    "id": "aa287d99-2c04-4dfd-bb9c-4e0c8e96e47f",
    "outputId": "a766fe36-0a43-4228-c886-2e647e4f3dad"
   },
   "outputs": [
    {
     "data": {
      "image/png": "[encoded data removed]",
      "text/plain": [
       "<Figure size 640x480 with 1 Axes>"
      ]
     },
     "metadata": {},
     "output_type": "display_data"
    },
    {
     "data": {
      "image/png": "[encoded data removed]",
      "text/plain": [
       "<Figure size 640x480 with 1 Axes>"
      ]
     },
     "metadata": {},
     "output_type": "display_data"
    },
    {
     "data": {
      "image/png": "[encoded data removed]",
      "text/plain": [
       "<Figure size 640x480 with 1 Axes>"
      ]
     },
     "metadata": {},
     "output_type": "display_data"
    },
    {
     "data": {
      "image/png": "[encoded data removed]",
      "text/plain": [
       "<Figure size 640x480 with 1 Axes>"
      ]
     },
     "metadata": {},
     "output_type": "display_data"
    },
    {
     "data": {
      "image/png": "[encoded data removed]",
      "text/plain": [
       "<Figure size 640x480 with 1 Axes>"
      ]
     },
     "metadata": {},
     "output_type": "display_data"
    }
   ],
   "source": [
    "# Checking the distribution of the numeric variables\n",
    "for numeric in numeric_values:\n",
    "    school[f'{numeric}'].hist()\n",
    "    plt.title(f'{numeric} Distribution')\n",
    "    plt.show()"
   ]
  },
  {
   "cell_type": "code",
   "execution_count": 33,
   "id": "a180c516-8de1-4360-aa12-14d819f40371",
   "metadata": {
    "colab": {
     "base_uri": "https://localhost:8080/",
     "height": 476
    },
    "executionInfo": {
     "elapsed": 14,
     "status": "ok",
     "timestamp": 1726435355617,
     "user": {
      "displayName": "Chidiebere Agate",
      "userId": "09150463183037036353"
     },
     "user_tz": -60
    },
    "id": "a180c516-8de1-4360-aa12-14d819f40371",
    "outputId": "065f42ec-cac1-4027-c298-1b0f6febe4fe"
   },
   "outputs": [
    {
     "data": {
      "text/html": [
       "<div>\n",
       "<style scoped>\n",
       "    .dataframe tbody tr th:only-of-type {\n",
       "        vertical-align: middle;\n",
       "    }\n",
       "\n",
       "    .dataframe tbody tr th {\n",
       "        vertical-align: top;\n",
       "    }\n",
       "\n",
       "    .dataframe thead th {\n",
       "        text-align: right;\n",
       "    }\n",
       "</style>\n",
       "<table border=\"1\" class=\"dataframe\">\n",
       "  <thead>\n",
       "    <tr style=\"text-align: right;\">\n",
       "      <th></th>\n",
       "      <th>Previous qualification (grade)</th>\n",
       "      <th>Admission grade</th>\n",
       "      <th>Unemployment rate</th>\n",
       "      <th>Inflation rate</th>\n",
       "      <th>GDP</th>\n",
       "    </tr>\n",
       "  </thead>\n",
       "  <tbody>\n",
       "    <tr>\n",
       "      <th>0</th>\n",
       "      <td>-0.804841</td>\n",
       "      <td>0.022229</td>\n",
       "      <td>-0.287638</td>\n",
       "      <td>0.124386</td>\n",
       "      <td>0.765761</td>\n",
       "    </tr>\n",
       "    <tr>\n",
       "      <th>1</th>\n",
       "      <td>2.076819</td>\n",
       "      <td>1.071926</td>\n",
       "      <td>0.876222</td>\n",
       "      <td>-1.105222</td>\n",
       "      <td>0.347199</td>\n",
       "    </tr>\n",
       "    <tr>\n",
       "      <th>2</th>\n",
       "      <td>-0.804841</td>\n",
       "      <td>-0.150419</td>\n",
       "      <td>-0.287638</td>\n",
       "      <td>0.124386</td>\n",
       "      <td>0.765761</td>\n",
       "    </tr>\n",
       "    <tr>\n",
       "      <th>3</th>\n",
       "      <td>-0.804841</td>\n",
       "      <td>-0.509526</td>\n",
       "      <td>-0.813253</td>\n",
       "      <td>-1.466871</td>\n",
       "      <td>-1.375511</td>\n",
       "    </tr>\n",
       "    <tr>\n",
       "      <th>4</th>\n",
       "      <td>-2.473171</td>\n",
       "      <td>1.002867</td>\n",
       "      <td>0.876222</td>\n",
       "      <td>-1.105222</td>\n",
       "      <td>0.347199</td>\n",
       "    </tr>\n",
       "    <tr>\n",
       "      <th>...</th>\n",
       "      <td>...</td>\n",
       "      <td>...</td>\n",
       "      <td>...</td>\n",
       "      <td>...</td>\n",
       "      <td>...</td>\n",
       "    </tr>\n",
       "    <tr>\n",
       "      <th>4419</th>\n",
       "      <td>-0.577342</td>\n",
       "      <td>-0.329972</td>\n",
       "      <td>1.476924</td>\n",
       "      <td>1.137005</td>\n",
       "      <td>-1.789667</td>\n",
       "    </tr>\n",
       "    <tr>\n",
       "      <th>4420</th>\n",
       "      <td>-0.956508</td>\n",
       "      <td>-0.550961</td>\n",
       "      <td>-0.175007</td>\n",
       "      <td>-0.454253</td>\n",
       "      <td>0.889126</td>\n",
       "    </tr>\n",
       "    <tr>\n",
       "      <th>4421</th>\n",
       "      <td>1.621820</td>\n",
       "      <td>1.555339</td>\n",
       "      <td>0.876222</td>\n",
       "      <td>-1.105222</td>\n",
       "      <td>0.347199</td>\n",
       "    </tr>\n",
       "    <tr>\n",
       "      <th>4422</th>\n",
       "      <td>3.593483</td>\n",
       "      <td>1.852293</td>\n",
       "      <td>-0.813253</td>\n",
       "      <td>-1.466871</td>\n",
       "      <td>-1.375511</td>\n",
       "    </tr>\n",
       "    <tr>\n",
       "      <th>4423</th>\n",
       "      <td>1.470154</td>\n",
       "      <td>1.727987</td>\n",
       "      <td>0.425695</td>\n",
       "      <td>1.787974</td>\n",
       "      <td>-0.749872</td>\n",
       "    </tr>\n",
       "  </tbody>\n",
       "</table>\n",
       "<p>4424 rows × 5 columns</p>\n",
       "</div>"
      ],
      "text/plain": [
       "      Previous qualification (grade)  Admission grade  Unemployment rate  \\\n",
       "0                          -0.804841         0.022229          -0.287638   \n",
       "1                           2.076819         1.071926           0.876222   \n",
       "2                          -0.804841        -0.150419          -0.287638   \n",
       "3                          -0.804841        -0.509526          -0.813253   \n",
       "4                          -2.473171         1.002867           0.876222   \n",
       "...                              ...              ...                ...   \n",
       "4419                       -0.577342        -0.329972           1.476924   \n",
       "4420                       -0.956508        -0.550961          -0.175007   \n",
       "4421                        1.621820         1.555339           0.876222   \n",
       "4422                        3.593483         1.852293          -0.813253   \n",
       "4423                        1.470154         1.727987           0.425695   \n",
       "\n",
       "      Inflation rate       GDP  \n",
       "0           0.124386  0.765761  \n",
       "1          -1.105222  0.347199  \n",
       "2           0.124386  0.765761  \n",
       "3          -1.466871 -1.375511  \n",
       "4          -1.105222  0.347199  \n",
       "...              ...       ...  \n",
       "4419        1.137005 -1.789667  \n",
       "4420       -0.454253  0.889126  \n",
       "4421       -1.105222  0.347199  \n",
       "4422       -1.466871 -1.375511  \n",
       "4423        1.787974 -0.749872  \n",
       "\n",
       "[4424 rows x 5 columns]"
      ]
     },
     "execution_count": 33,
     "metadata": {},
     "output_type": "execute_result"
    }
   ],
   "source": [
    "# Scaling the numeric variables\n",
    "normalized_values = scaler.fit_transform(numeric_values)\n",
    "df = pd.DataFrame(normalized_values)\n",
    "df.columns = numeric_values.columns\n",
    "df"
   ]
  },
  {
   "cell_type": "code",
   "execution_count": 34,
   "id": "2bc4671f-6852-406b-b33a-5510dc651700",
   "metadata": {
    "colab": {
     "base_uri": "https://localhost:8080/",
     "height": 1000
    },
    "executionInfo": {
     "elapsed": 5147,
     "status": "ok",
     "timestamp": 1726435360753,
     "user": {
      "displayName": "Chidiebere Agate",
      "userId": "09150463183037036353"
     },
     "user_tz": -60
    },
    "id": "2bc4671f-6852-406b-b33a-5510dc651700",
    "outputId": "22de1dc8-14a4-44c0-8e46-fbda84192f8a"
   },
   "outputs": [
    {
     "data": {
      "image/png": "[encoded data removed]",
      "text/plain": [
       "<Figure size 640x480 with 1 Axes>"
      ]
     },
     "metadata": {},
     "output_type": "display_data"
    },
    {
     "data": {
      "image/png": "[encoded data removed]",
      "text/plain": [
       "<Figure size 640x480 with 1 Axes>"
      ]
     },
     "metadata": {},
     "output_type": "display_data"
    },
    {
     "data": {
      "image/png": "[encoded data removed]",
      "text/plain": [
       "<Figure size 640x480 with 1 Axes>"
      ]
     },
     "metadata": {},
     "output_type": "display_data"
    },
    {
     "data": {
      "image/png": "[encoded data removed]",
      "text/plain": [
       "<Figure size 640x480 with 1 Axes>"
      ]
     },
     "metadata": {},
     "output_type": "display_data"
    },
    {
     "data": {
      "image/png": "[encoded data removed]",
      "text/plain": [
       "<Figure size 640x480 with 1 Axes>"
      ]
     },
     "metadata": {},
     "output_type": "display_data"
    }
   ],
   "source": [
    "#Checking the scaled distribution\n",
    "for numeric in df:\n",
    "    df[f'{numeric}'].hist()\n",
    "    plt.title(f'{numeric} Distribution')\n",
    "    plt.show()"
   ]
  },
  {
   "cell_type": "code",
   "execution_count": 35,
   "id": "2274445f-50c4-4a36-a060-e5c1fd57eaf0",
   "metadata": {
    "colab": {
     "base_uri": "https://localhost:8080/",
     "height": 429
    },
    "executionInfo": {
     "elapsed": 588,
     "status": "ok",
     "timestamp": 1726435361331,
     "user": {
      "displayName": "Chidiebere Agate",
      "userId": "09150463183037036353"
     },
     "user_tz": -60
    },
    "id": "2274445f-50c4-4a36-a060-e5c1fd57eaf0",
    "outputId": "8df1f498-3eab-4386-ccae-5ffeec998766"
   },
   "outputs": [
    {
     "data": {
      "text/plain": [
       "Previous qualification (grade)    1.000226\n",
       "Admission grade                   1.000226\n",
       "Unemployment rate                 1.000226\n",
       "Inflation rate                    1.000226\n",
       "GDP                               1.000226\n",
       "dtype: float64"
      ]
     },
     "execution_count": 35,
     "metadata": {},
     "output_type": "execute_result"
    }
   ],
   "source": [
    "df.var()"
   ]
  },
  {
   "cell_type": "code",
   "execution_count": 36,
   "id": "eae6a147-972a-4937-ac36-4f2cc6a8f283",
   "metadata": {
    "colab": {
     "base_uri": "https://localhost:8080/"
    },
    "executionInfo": {
     "elapsed": 17,
     "status": "ok",
     "timestamp": 1726435361332,
     "user": {
      "displayName": "Chidiebere Agate",
      "userId": "09150463183037036353"
     },
     "user_tz": -60
    },
    "id": "eae6a147-972a-4937-ac36-4f2cc6a8f283",
    "outputId": "fa84044d-6568-4cdb-b5b7-4a746adf03cd"
   },
   "outputs": [
    {
     "name": "stdout",
     "output_type": "stream",
     "text": [
      "<class 'pandas.core.frame.DataFrame'>\n",
      "RangeIndex: 4424 entries, 0 to 4423\n",
      "Data columns (total 32 columns):\n",
      " #   Column                                          Non-Null Count  Dtype \n",
      "---  ------                                          --------------  ----- \n",
      " 0   Marital status                                  4424 non-null   object\n",
      " 1   Application mode                                4424 non-null   object\n",
      " 2   Application order                               4424 non-null   object\n",
      " 3   Course                                          4424 non-null   object\n",
      " 4   Daytime/evening attendance                      4424 non-null   object\n",
      " 5   Previous qualification                          4424 non-null   object\n",
      " 6   Nationality                                     4424 non-null   object\n",
      " 7   Mother's qualification                          4424 non-null   object\n",
      " 8   Father's qualification                          4424 non-null   object\n",
      " 9   Mother's occupation                             4424 non-null   object\n",
      " 10  Father's occupation                             4424 non-null   object\n",
      " 11  Displaced                                       4424 non-null   object\n",
      " 12  Educational special needs                       4424 non-null   object\n",
      " 13  Debtor                                          4424 non-null   object\n",
      " 14  Tuition fees up to date                         4424 non-null   object\n",
      " 15  Gender                                          4424 non-null   object\n",
      " 16  Scholarship holder                              4424 non-null   object\n",
      " 17  Age at enrollment                               4424 non-null   int64 \n",
      " 18  International                                   4424 non-null   object\n",
      " 19  Curricular units 1st sem (credited)             4424 non-null   object\n",
      " 20  Curricular units 1st sem (enrolled)             4424 non-null   object\n",
      " 21  Curricular units 1st sem (evaluations)          4424 non-null   object\n",
      " 22  Curricular units 1st sem (approved)             4424 non-null   object\n",
      " 23  Curricular units 1st sem (grade)                4424 non-null   object\n",
      " 24  Curricular units 1st sem (without evaluations)  4424 non-null   object\n",
      " 25  Curricular units 2nd sem (credited)             4424 non-null   object\n",
      " 26  Curricular units 2nd sem (enrolled)             4424 non-null   object\n",
      " 27  Curricular units 2nd sem (evaluations)          4424 non-null   object\n",
      " 28  Curricular units 2nd sem (approved)             4424 non-null   object\n",
      " 29  Curricular units 2nd sem (grade)                4424 non-null   object\n",
      " 30  Curricular units 2nd sem (without evaluations)  4424 non-null   object\n",
      " 31  Target                                          4424 non-null   object\n",
      "dtypes: int64(1), object(31)\n",
      "memory usage: 1.1+ MB\n"
     ]
    }
   ],
   "source": [
    "# Dropping the unscaled variables\n",
    "for unit in df.columns:\n",
    "    school.drop(f'{unit}', axis=1, inplace=True)\n",
    "school.info()"
   ]
  },
  {
   "cell_type": "code",
   "execution_count": 37,
   "id": "f1ba0790-cd44-45c4-bfb0-46d5c34ac8af",
   "metadata": {
    "colab": {
     "base_uri": "https://localhost:8080/"
    },
    "executionInfo": {
     "elapsed": 11,
     "status": "ok",
     "timestamp": 1726435361332,
     "user": {
      "displayName": "Chidiebere Agate",
      "userId": "09150463183037036353"
     },
     "user_tz": -60
    },
    "id": "f1ba0790-cd44-45c4-bfb0-46d5c34ac8af",
    "outputId": "04e90fea-8132-4fff-dd4c-b2f35a6fbcc3"
   },
   "outputs": [
    {
     "name": "stdout",
     "output_type": "stream",
     "text": [
      "<class 'pandas.core.frame.DataFrame'>\n",
      "RangeIndex: 4424 entries, 0 to 4423\n",
      "Data columns (total 37 columns):\n",
      " #   Column                                          Non-Null Count  Dtype  \n",
      "---  ------                                          --------------  -----  \n",
      " 0   Marital status                                  4424 non-null   object \n",
      " 1   Application mode                                4424 non-null   object \n",
      " 2   Application order                               4424 non-null   object \n",
      " 3   Course                                          4424 non-null   object \n",
      " 4   Daytime/evening attendance                      4424 non-null   object \n",
      " 5   Previous qualification                          4424 non-null   object \n",
      " 6   Nationality                                     4424 non-null   object \n",
      " 7   Mother's qualification                          4424 non-null   object \n",
      " 8   Father's qualification                          4424 non-null   object \n",
      " 9   Mother's occupation                             4424 non-null   object \n",
      " 10  Father's occupation                             4424 non-null   object \n",
      " 11  Displaced                                       4424 non-null   object \n",
      " 12  Educational special needs                       4424 non-null   object \n",
      " 13  Debtor                                          4424 non-null   object \n",
      " 14  Tuition fees up to date                         4424 non-null   object \n",
      " 15  Gender                                          4424 non-null   object \n",
      " 16  Scholarship holder                              4424 non-null   object \n",
      " 17  Age at enrollment                               4424 non-null   int64  \n",
      " 18  International                                   4424 non-null   object \n",
      " 19  Curricular units 1st sem (credited)             4424 non-null   object \n",
      " 20  Curricular units 1st sem (enrolled)             4424 non-null   object \n",
      " 21  Curricular units 1st sem (evaluations)          4424 non-null   object \n",
      " 22  Curricular units 1st sem (approved)             4424 non-null   object \n",
      " 23  Curricular units 1st sem (grade)                4424 non-null   object \n",
      " 24  Curricular units 1st sem (without evaluations)  4424 non-null   object \n",
      " 25  Curricular units 2nd sem (credited)             4424 non-null   object \n",
      " 26  Curricular units 2nd sem (enrolled)             4424 non-null   object \n",
      " 27  Curricular units 2nd sem (evaluations)          4424 non-null   object \n",
      " 28  Curricular units 2nd sem (approved)             4424 non-null   object \n",
      " 29  Curricular units 2nd sem (grade)                4424 non-null   object \n",
      " 30  Curricular units 2nd sem (without evaluations)  4424 non-null   object \n",
      " 31  Target                                          4424 non-null   object \n",
      " 32  Previous qualification (grade)                  4424 non-null   float64\n",
      " 33  Admission grade                                 4424 non-null   float64\n",
      " 34  Unemployment rate                               4424 non-null   float64\n",
      " 35  Inflation rate                                  4424 non-null   float64\n",
      " 36  GDP                                             4424 non-null   float64\n",
      "dtypes: float64(5), int64(1), object(31)\n",
      "memory usage: 1.2+ MB\n"
     ]
    }
   ],
   "source": [
    "# Adding the scaled features\n",
    "dropout = pd.concat([school,df],axis=1)\n",
    "dropout.info()"
   ]
  },
  {
   "cell_type": "markdown",
   "id": "RxudOo2DKLnh",
   "metadata": {
    "id": "RxudOo2DKLnh"
   },
   "source": [
    "## Step 5"
   ]
  },
  {
   "cell_type": "code",
   "execution_count": 39,
   "id": "a7f4ddd1-98d4-4dc2-b0f7-fcd1f764f276",
   "metadata": {
    "executionInfo": {
     "elapsed": 9,
     "status": "ok",
     "timestamp": 1726435361332,
     "user": {
      "displayName": "Chidiebere Agate",
      "userId": "09150463183037036353"
     },
     "user_tz": -60
    },
    "id": "a7f4ddd1-98d4-4dc2-b0f7-fcd1f764f276"
   },
   "outputs": [],
   "source": [
    "# Converting the cleaned data to csv format\n",
    "dropout.to_csv('cleaned_data.csv',index=False)"
   ]
  }
 ],
 "metadata": {
  "colab": {
   "provenance": []
  },
  "kernelspec": {
   "display_name": "Python 3 (ipykernel)",
   "language": "python",
   "name": "python3"
  },
  "language_info": {
   "codemirror_mode": {
    "name": "ipython",
    "version": 3
   },
   "file_extension": ".py",
   "mimetype": "text/x-python",
   "name": "python",
   "nbconvert_exporter": "python",
   "pygments_lexer": "ipython3",
   "version": "3.12.4"
  }
 },
 "nbformat": 4,
 "nbformat_minor": 5
}
